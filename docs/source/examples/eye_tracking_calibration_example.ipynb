{
 "cells": [
  {
   "cell_type": "code",
   "execution_count": 1,
   "id": "f4e3b276",
   "metadata": {},
   "outputs": [],
   "source": [
    "# Example for calibrating eye tracking data from a Beignet recording session\n",
    "# Following example in: http://aolab.wanprc.washington.edu:8888/notebooks/sijia/eyetracking_double_eye_session2337.ipynb\n",
    "# Using functions in analyze/aopy/preproc.py\n",
    "\n",
    "import os\n",
    "import numpy as np\n",
    "import aopy\n",
    "import matplotlib.pyplot as plt"
   ]
  },
  {
   "cell_type": "code",
   "execution_count": 3,
   "id": "f6588bc2",
   "metadata": {},
   "outputs": [],
   "source": [
    "base_dir = \"/data/preprocessed/beignet\"\n",
    "\n",
    "preprocessed_filename = 'preprocessed_te2337.hdf'\n",
    "data = aopy.data.load_hdf_group(base_dir, preprocessed_filename, 'exp_data')\n",
    "metadata = aopy.data.load_hdf_group(base_dir, preprocessed_filename, 'exp_metadata')\n"
   ]
  },
  {
   "cell_type": "code",
   "execution_count": 4,
   "id": "5f151403",
   "metadata": {},
   "outputs": [
    {
     "name": "stdout",
     "output_type": "stream",
     "text": [
      "(79523, 3)\n"
     ]
    }
   ],
   "source": [
    "cursor_kinematics = data['task']['cursor'][:,[0,2,1]] # cursor (x, z, y) position on each bmi3d cycle\n",
    "print(cursor_kinematics.shape)"
   ]
  },
  {
   "cell_type": "code",
   "execution_count": 5,
   "id": "4cf4faa3",
   "metadata": {},
   "outputs": [
    {
     "name": "stdout",
     "output_type": "stream",
     "text": [
      "/data/raw/ecube/2021-08-06_BMI3D_te2337\n"
     ]
    }
   ],
   "source": [
    "print(metadata['source_files']['ecube'])"
   ]
  },
  {
   "cell_type": "code",
   "execution_count": 6,
   "id": "b563685f",
   "metadata": {},
   "outputs": [
    {
     "name": "stdout",
     "output_type": "stream",
     "text": [
      "{'hdf': '/data/raw/hdf/beig20210806_16_te2337.hdf', 'ecube': '/data/raw/ecube/2021-08-06_BMI3D_te2337'}\n"
     ]
    }
   ],
   "source": [
    "print(metadata['source_files'])"
   ]
  },
  {
   "cell_type": "code",
   "execution_count": 8,
   "id": "6a22464b",
   "metadata": {},
   "outputs": [
    {
     "ename": "AttributeError",
     "evalue": "module 'aopy.preproc' has no attribute 'parse_oculomatric'",
     "output_type": "error",
     "traceback": [
      "\u001b[0;31m---------------------------------------------------------------------------\u001b[0m",
      "\u001b[0;31mAttributeError\u001b[0m                            Traceback (most recent call last)",
      "\u001b[0;32m<ipython-input-8-0e95a65f865f>\u001b[0m in \u001b[0;36m<module>\u001b[0;34m\u001b[0m\n\u001b[1;32m      1\u001b[0m \u001b[0mdata_dir\u001b[0m\u001b[0;34m,\u001b[0m \u001b[0mecube_file\u001b[0m \u001b[0;34m=\u001b[0m \u001b[0mos\u001b[0m\u001b[0;34m.\u001b[0m\u001b[0mpath\u001b[0m\u001b[0;34m.\u001b[0m\u001b[0msplit\u001b[0m\u001b[0;34m(\u001b[0m\u001b[0mmetadata\u001b[0m\u001b[0;34m[\u001b[0m\u001b[0;34m'source_files'\u001b[0m\u001b[0;34m]\u001b[0m\u001b[0;34m[\u001b[0m\u001b[0;34m'ecube'\u001b[0m\u001b[0;34m]\u001b[0m\u001b[0;34m)\u001b[0m\u001b[0;34m\u001b[0m\u001b[0;34m\u001b[0m\u001b[0m\n\u001b[1;32m      2\u001b[0m \u001b[0m_\u001b[0m\u001b[0;34m,\u001b[0m \u001b[0mhdf_file\u001b[0m \u001b[0;34m=\u001b[0m \u001b[0mos\u001b[0m\u001b[0;34m.\u001b[0m\u001b[0mpath\u001b[0m\u001b[0;34m.\u001b[0m\u001b[0msplit\u001b[0m\u001b[0;34m(\u001b[0m\u001b[0mmetadata\u001b[0m\u001b[0;34m[\u001b[0m\u001b[0;34m'source_files'\u001b[0m\u001b[0;34m]\u001b[0m\u001b[0;34m[\u001b[0m\u001b[0;34m'hdf'\u001b[0m\u001b[0;34m]\u001b[0m\u001b[0;34m)\u001b[0m\u001b[0;34m\u001b[0m\u001b[0;34m\u001b[0m\u001b[0m\n\u001b[0;32m----> 3\u001b[0;31m \u001b[0meye_data\u001b[0m\u001b[0;34m,\u001b[0m \u001b[0meye_metadata\u001b[0m \u001b[0;34m=\u001b[0m \u001b[0maopy\u001b[0m\u001b[0;34m.\u001b[0m\u001b[0mpreproc\u001b[0m\u001b[0;34m.\u001b[0m\u001b[0mparse_oculomatric\u001b[0m\u001b[0;34m(\u001b[0m\u001b[0mdata_dir\u001b[0m\u001b[0;34m,\u001b[0m \u001b[0;34m{\u001b[0m\u001b[0;34m'hdf'\u001b[0m\u001b[0;34m:\u001b[0m \u001b[0mhdf_file\u001b[0m\u001b[0;34m,\u001b[0m \u001b[0;34m'ecube'\u001b[0m\u001b[0;34m:\u001b[0m \u001b[0mecube_file\u001b[0m\u001b[0;34m}\u001b[0m\u001b[0;34m)\u001b[0m\u001b[0;34m\u001b[0m\u001b[0;34m\u001b[0m\u001b[0m\n\u001b[0m\u001b[1;32m      4\u001b[0m \u001b[0mprint\u001b[0m\u001b[0;34m(\u001b[0m\u001b[0meye_metadata\u001b[0m\u001b[0;34m)\u001b[0m\u001b[0;34m\u001b[0m\u001b[0;34m\u001b[0m\u001b[0m\n",
      "\u001b[0;31mAttributeError\u001b[0m: module 'aopy.preproc' has no attribute 'parse_oculomatric'"
     ]
    }
   ],
   "source": [
    "data_dir, ecube_file = os.path.split(metadata['source_files']['ecube'])\n",
    "_, hdf_file = os.path.split(metadata['source_files']['hdf'])\n",
    "eye_data, eye_metadata = aopy.preproc.parse_oculomatric(data_dir, {'hdf': hdf_file, 'ecube': ecube_file})\n",
    "print(eye_metadata)"
   ]
  },
  {
   "cell_type": "code",
   "execution_count": null,
   "id": "9634d15e",
   "metadata": {},
   "outputs": [],
   "source": []
  }
 ],
 "metadata": {
  "kernelspec": {
   "display_name": "Python [conda env:sijia-analysis]",
   "language": "python",
   "name": "conda-env-sijia-analysis-py"
  },
  "language_info": {
   "codemirror_mode": {
    "name": "ipython",
    "version": 3
   },
   "file_extension": ".py",
   "mimetype": "text/x-python",
   "name": "python",
   "nbconvert_exporter": "python",
   "pygments_lexer": "ipython3",
   "version": "3.9.6"
  },
  "varInspector": {
   "cols": {
    "lenName": 16,
    "lenType": 16,
    "lenVar": 40
   },
   "kernels_config": {
    "python": {
     "delete_cmd_postfix": "",
     "delete_cmd_prefix": "del ",
     "library": "var_list.py",
     "varRefreshCmd": "print(var_dic_list())"
    },
    "r": {
     "delete_cmd_postfix": ") ",
     "delete_cmd_prefix": "rm(",
     "library": "var_list.r",
     "varRefreshCmd": "cat(var_dic_list()) "
    }
   },
   "types_to_exclude": [
    "module",
    "function",
    "builtin_function_or_method",
    "instance",
    "_Feature"
   ],
   "window_display": false
  }
 },
 "nbformat": 4,
 "nbformat_minor": 5
}

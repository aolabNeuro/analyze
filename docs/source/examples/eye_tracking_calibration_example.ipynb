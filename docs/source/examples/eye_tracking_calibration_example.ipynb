{
 "cells": [
  {
   "cell_type": "code",
   "execution_count": 2,
   "id": "c0913a3f",
   "metadata": {},
   "outputs": [],
   "source": [
    "# Example for calibrating eye tracking data from a Beignet recording session\n",
    "# Following example in: http://aolab.wanprc.washington.edu:8888/notebooks/sijia/eyetracking_double_eye_session2337.ipynb\n",
    "# Using functions in analyze/aopy/preproc.py\n",
    "\n",
    "import os\n",
    "import numpy as np\n",
    "import aopy\n",
    "import matplotlib.pyplot as plt"
   ]
  },
  {
   "cell_type": "code",
   "execution_count": 3,
   "id": "38d76388",
   "metadata": {},
   "outputs": [],
   "source": [
    "base_dir = \"/data/preprocessed/beignet\"\n",
    "\n",
    "preprocessed_filename = 'preprocessed_te2337.hdf'\n",
    "data = aopy.data.load_hdf_group(base_dir, preprocessed_filename, 'exp_data')\n",
    "metadata = aopy.data.load_hdf_group(base_dir, preprocessed_filename, 'exp_metadata')\n"
   ]
  },
  {
   "cell_type": "code",
   "execution_count": 4,
   "id": "1d95fbb3",
   "metadata": {},
   "outputs": [
    {
     "name": "stdout",
     "output_type": "stream",
     "text": [
      "(79523, 3)\n"
     ]
    }
   ],
   "source": [
    "cursor_kinematics = data['task']['cursor'][:,[0,2,1]] # cursor (x, z, y) position on each bmi3d cycle\n",
    "print(cursor_kinematics.shape)"
   ]
  },
  {
   "cell_type": "code",
   "execution_count": 5,
   "id": "f5e1c06f",
   "metadata": {},
   "outputs": [
    {
     "name": "stdout",
     "output_type": "stream",
     "text": [
      "/data/raw/ecube/2021-08-06_BMI3D_te2337\n"
     ]
    }
   ],
   "source": [
    "print(metadata['source_files']['ecube'])"
   ]
  },
  {
   "cell_type": "code",
   "execution_count": 6,
   "id": "5620ccbf",
   "metadata": {},
   "outputs": [
    {
     "name": "stdout",
     "output_type": "stream",
     "text": [
      "{'hdf': '/data/raw/hdf/beig20210806_16_te2337.hdf', 'ecube': '/data/raw/ecube/2021-08-06_BMI3D_te2337'}\n"
     ]
    }
   ],
   "source": [
    "print(metadata['source_files'])"
   ]
  },
  {
   "cell_type": "code",
   "execution_count": 9,
   "id": "3d583655",
   "metadata": {},
   "outputs": [
    {
     "name": "stdout",
     "output_type": "stream",
     "text": [
      "eye channel definitions do not exist, use eye channels [9, 8, 10, 11] \n",
      "{'channels': [9, 8, 10, 11], 'labels': ['left_eye_x', 'left_eye_y', 'right_eye_x', 'right_eye_y'], 'samplerate': 25000, 'voltsperbit': 0.00030517578125}\n"
     ]
    }
   ],
   "source": [
    "data_dir = '' \n",
    "# _, ecube_file = os.path.split(metadata['source_files']['ecube'])\n",
    "# _, hdf_file = os.path.split(metadata['source_files']['hdf'])\n",
    "eye_data, eye_metadata = aopy.preproc.parse_oculomatic(data_dir, {'hdf': metadata['source_files']['hdf'], 'ecube': metadata['source_files']['ecube']})\n",
    "print(eye_metadata)"
   ]
  },
  {
   "cell_type": "code",
   "execution_count": null,
   "id": "d99afab4",
   "metadata": {},
   "outputs": [],
   "source": []
  }
 ],
 "metadata": {
  "kernelspec": {
   "display_name": "Python [conda env:sijia-analysis]",
   "language": "python",
   "name": "conda-env-sijia-analysis-py"
  },
  "language_info": {
   "codemirror_mode": {
    "name": "ipython",
    "version": 3
   },
   "file_extension": ".py",
   "mimetype": "text/x-python",
   "name": "python",
   "nbconvert_exporter": "python",
   "pygments_lexer": "ipython3",
   "version": "3.9.6"
  },
  "varInspector": {
   "cols": {
    "lenName": 16,
    "lenType": 16,
    "lenVar": 40
   },
   "kernels_config": {
    "python": {
     "delete_cmd_postfix": "",
     "delete_cmd_prefix": "del ",
     "library": "var_list.py",
     "varRefreshCmd": "print(var_dic_list())"
    },
    "r": {
     "delete_cmd_postfix": ") ",
     "delete_cmd_prefix": "rm(",
     "library": "var_list.r",
     "varRefreshCmd": "cat(var_dic_list()) "
    }
   },
   "types_to_exclude": [
    "module",
    "function",
    "builtin_function_or_method",
    "instance",
    "_Feature"
   ],
   "window_display": false
  }
 },
 "nbformat": 4,
 "nbformat_minor": 5
}

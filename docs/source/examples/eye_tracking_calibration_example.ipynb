{
 "cells": [
  {
   "cell_type": "code",
   "execution_count": 1,
   "id": "40d8fe08",
   "metadata": {},
   "outputs": [],
   "source": [
    "# Example for calibrating eye tracking data from a Beignet recording session\n",
    "# Following example in: http://aolab.wanprc.washington.edu:8888/notebooks/sijia/eyetracking_double_eye_session2337.ipynb\n",
    "# Using functions in analyze/aopy/preproc.py\n",
    "\n",
    "import os\n",
    "import numpy as np\n",
    "import aopy\n",
    "import matplotlib.pyplot as plt"
   ]
  },
  {
   "cell_type": "code",
   "execution_count": 3,
   "id": "5e9d09f8",
   "metadata": {},
   "outputs": [],
   "source": [
    "base_dir = \"/data/preprocessed/beignet\"\n",
    "\n",
    "preprocessed_filename = 'preprocessed_te2337.hdf'\n",
    "data = aopy.data.load_hdf_group(base_dir, preprocessed_filename, 'exp_data')\n",
    "metadata = aopy.data.load_hdf_group(base_dir, preprocessed_filename, 'exp_metadata')\n"
   ]
  },
  {
   "cell_type": "code",
   "execution_count": 4,
   "id": "618cc9c4",
   "metadata": {},
   "outputs": [
    {
     "name": "stdout",
     "output_type": "stream",
     "text": [
      "(79523, 3)\n"
     ]
    }
   ],
   "source": [
    "cursor_kinematics = data['task']['cursor'][:,[0,2,1]] # cursor (x, z, y) position on each bmi3d cycle\n",
    "print(cursor_kinematics.shape)"
   ]
  },
  {
   "cell_type": "code",
   "execution_count": null,
   "id": "866cd47d",
   "metadata": {},
   "outputs": [],
   "source": []
  }
 ],
 "metadata": {
  "kernelspec": {
   "display_name": "Python [conda env:sijia-analysis]",
   "language": "python",
   "name": "conda-env-sijia-analysis-py"
  },
  "language_info": {
   "codemirror_mode": {
    "name": "ipython",
    "version": 3
   },
   "file_extension": ".py",
   "mimetype": "text/x-python",
   "name": "python",
   "nbconvert_exporter": "python",
   "pygments_lexer": "ipython3",
   "version": "3.9.6"
  },
  "varInspector": {
   "cols": {
    "lenName": 16,
    "lenType": 16,
    "lenVar": 40
   },
   "kernels_config": {
    "python": {
     "delete_cmd_postfix": "",
     "delete_cmd_prefix": "del ",
     "library": "var_list.py",
     "varRefreshCmd": "print(var_dic_list())"
    },
    "r": {
     "delete_cmd_postfix": ") ",
     "delete_cmd_prefix": "rm(",
     "library": "var_list.r",
     "varRefreshCmd": "cat(var_dic_list()) "
    }
   },
   "types_to_exclude": [
    "module",
    "function",
    "builtin_function_or_method",
    "instance",
    "_Feature"
   ],
   "window_display": false
  }
 },
 "nbformat": 4,
 "nbformat_minor": 5
}

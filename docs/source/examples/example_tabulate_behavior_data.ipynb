{
 "cells": [
  {
   "cell_type": "markdown",
   "id": "2cb1c167",
   "metadata": {},
   "source": [
    "# Example Notebook for Tabulate Behavior Data "
   ]
  },
  {
   "cell_type": "code",
   "execution_count": 1,
   "id": "9c0c9b3c",
   "metadata": {
    "ExecuteTime": {
     "end_time": "2024-12-19T19:06:56.184066Z",
     "start_time": "2024-12-19T19:06:52.391138Z"
    }
   },
   "outputs": [
    {
     "name": "stderr",
     "output_type": "stream",
     "text": [
      "/home/aolab/miniconda3/envs/mtringi-analysis/lib/python3.9/site-packages/one/alf/files.py:10: FutureWarning: `one.alf.files` will be removed in version 3.0. Use `one.alf.path` instead.\n",
      "  warnings.warn(\n"
     ]
    }
   ],
   "source": [
    "#import relevant packages \n",
    "import aopy\n",
    "from aopy.data import db\n",
    "import numpy as np\n",
    "import sys\n",
    "import pandas as pd\n",
    "import os\n",
    "import h5py\n",
    "from tqdm import tqdm\n",
    "import time\n",
    "import datetime\n",
    "from IPython.display import display, Markdown"
   ]
  },
  {
   "cell_type": "code",
   "execution_count": 2,
   "id": "1fd2ea01",
   "metadata": {
    "ExecuteTime": {
     "end_time": "2024-12-19T19:06:58.981670Z",
     "start_time": "2024-12-19T19:06:58.974352Z"
    }
   },
   "outputs": [],
   "source": [
    "# Set initial database & directory. \n",
    "isHuman = False\n",
    "\n",
    "if isHuman:\n",
    "    db.BMI3D_DBNAME = 'human'\n",
    "    preproc_dir = '/data/preprocessed-human'\n",
    "else:\n",
    "    db.BMI3D_DBNAME = 'default'\n",
    "    preproc_dir = '/data/preprocessed'"
   ]
  },
  {
   "cell_type": "code",
   "execution_count": 3,
   "id": "48b18151",
   "metadata": {
    "ExecuteTime": {
     "end_time": "2024-12-19T19:07:00.351556Z",
     "start_time": "2024-12-19T19:07:00.215366Z"
    }
   },
   "outputs": [
    {
     "name": "stdout",
     "output_type": "stream",
     "text": [
      "[2023-05-22 11:00:50.263000: affi on manual control task, id=9402, 2023-05-22 11:04:44.251000: affi on manual control task, id=9403, 2023-05-22 11:09:32.745000: affi on manual control task, id=9404, 2023-05-23 10:36:42.160000: affi on manual control task, id=9463, 2023-05-23 10:40:46.670000: affi on manual control task, id=9464, 2023-05-23 10:45:06.441000: affi on manual control task, id=9465, 2023-05-24 11:31:21.675000: affi on manual control task, id=9477, 2023-05-24 11:35:25.062000: affi on manual control task, id=9478, 2023-05-24 11:44:46.034000: affi on manual control task, id=9480, 2023-05-25 10:54:17.201000: affi on manual control task, id=9492, 2023-05-25 10:58:30.750000: affi on manual control task, id=9493, 2023-05-25 11:08:15.730000: affi on manual control task, id=9494, 2023-05-26 11:26:15.494000: affi on manual control task, id=9506, 2023-05-26 11:30:34.792000: affi on manual control task, id=9507, 2023-05-26 11:38:14.622000: affi on manual control task, id=9508, 2023-05-27 10:55:22.087000: affi on manual control task, id=9520, 2023-05-27 11:00:06.372000: affi on manual control task, id=9521, 2023-05-27 11:11:04.300000: affi on manual control task, id=9522]\n"
     ]
    }
   ],
   "source": [
    "# Get some data. In this example, use a range of Affi data \n",
    "entries = db.lookup_mc_sessions(subject='affi', date=('2023-05-22', '2023-05-28')) \n",
    "#collect data from this date range \n",
    "print(entries)"
   ]
  },
  {
   "cell_type": "code",
   "execution_count": 4,
   "id": "d3157557",
   "metadata": {
    "ExecuteTime": {
     "end_time": "2024-12-19T19:07:02.048108Z",
     "start_time": "2024-12-19T19:07:02.041685Z"
    }
   },
   "outputs": [],
   "source": [
    "#Use database functions to get relevant task information such as subject, task id, dates. \n",
    "subjects, te_ids, dates = db.list_entry_details(entries)\n",
    "#Each of these will be a tuple with values for each entry "
   ]
  },
  {
   "cell_type": "code",
   "execution_count": 5,
   "id": "13cb640e",
   "metadata": {
    "ExecuteTime": {
     "end_time": "2024-12-19T19:07:03.636403Z",
     "start_time": "2024-12-19T19:07:03.629014Z"
    }
   },
   "outputs": [
    {
     "name": "stdout",
     "output_type": "stream",
     "text": [
      "2023-05-22 11:00:50.263000: affi on manual control task, id=9402\n"
     ]
    }
   ],
   "source": [
    "#select one entry to get an idea of what the tabulate function needs\n",
    "entry1 = entries[0]\n",
    "print(entry1)"
   ]
  },
  {
   "cell_type": "code",
   "execution_count": 6,
   "id": "ca9acf51",
   "metadata": {
    "ExecuteTime": {
     "end_time": "2024-12-19T19:07:05.031753Z",
     "start_time": "2024-12-19T19:07:04.957007Z"
    },
    "scrolled": true
   },
   "outputs": [
    {
     "data": {
      "text/plain": [
       "array([(3.51464, 238, b'TIME_ZERO', 0), (5.02072,  16, b'TARGET_ON', 0),\n",
       "       (5.0292 ,  80, b'CURSOR_ENTER_TARGET', 0),\n",
       "       (5.18752,  21, b'TARGET_ON', 5), (5.42884,  32, b'TARGET_OFF', 0),\n",
       "       (6.0542 ,  85, b'CURSOR_ENTER_TARGET', 5),\n",
       "       (6.22896,  48, b'REWARD', 0), (6.38772, 239, b'TRIAL_END', 0),\n",
       "       (6.52052,  16, b'TARGET_ON', 0),\n",
       "       (6.8042 ,  80, b'CURSOR_ENTER_TARGET', 0),\n",
       "       (6.96264,  20, b'TARGET_ON', 4), (7.04544,  32, b'TARGET_OFF', 0),\n",
       "       (7.4624 ,  84, b'CURSOR_ENTER_TARGET', 4),\n",
       "       (7.63728,  48, b'REWARD', 0), (7.79628, 239, b'TRIAL_END', 0),\n",
       "       (7.9288 ,  16, b'TARGET_ON', 0),\n",
       "       (8.3456 ,  80, b'CURSOR_ENTER_TARGET', 0),\n",
       "       (8.50416,  22, b'TARGET_ON', 6), (8.9454 ,  32, b'TARGET_OFF', 0),\n",
       "       (9.34588,  86, b'CURSOR_ENTER_TARGET', 6)],\n",
       "      dtype=[('timestamp', '<f8'), ('code', 'u1'), ('event', 'S32'), ('data', '<u4')])"
      ]
     },
     "execution_count": 6,
     "metadata": {},
     "output_type": "execute_result"
    }
   ],
   "source": [
    "#Load example entry using preproc_exp_data. Tabulate behavior will call this function for each entry. \n",
    "exp_data, exp_metadata = aopy.data.base.load_preproc_exp_data(preproc_dir, \n",
    "                                            'affi', 9402, '2023-05-22', cached=True)\n",
    "\n",
    "#exp_data is a dictionary. \n",
    "#The events key contains a 4X1 nested array of timestamps, event codes, event names & data indices\n",
    "exp_data['events'][0:20]"
   ]
  },
  {
   "cell_type": "markdown",
   "id": "7acd41fb",
   "metadata": {
    "ExecuteTime": {
     "end_time": "2024-12-19T04:41:21.933920Z",
     "start_time": "2024-12-19T04:41:21.918360Z"
    }
   },
   "source": [
    "The tabulate functions will use these task codes (integer ID and name) as the input arguments for trial_start, trial_end, reward and penalty to create segments for each trial. Tabulate_behavior can take the codes or data dimensions as part of the optional input event_code_type argument. An initial task code assignment file (.yaml) can be found in the ~/analyze/aopy/config folder. Most of the wrapper tabulate functions will call this, removing the need for user input on the trial_start & trial_end arguments. "
   ]
  },
  {
   "cell_type": "code",
   "execution_count": 7,
   "id": "c18a6afd",
   "metadata": {
    "ExecuteTime": {
     "end_time": "2024-12-19T19:07:08.886488Z",
     "start_time": "2024-12-19T19:07:08.869407Z"
    }
   },
   "outputs": [
    {
     "name": "stdout",
     "output_type": "stream",
     "text": [
      "{'CENTER_TARGET_OFF': 32, 'CENTER_TARGET_ON': 16, 'CURSOR_ENTER_CENTER_TARGET': 80, 'CURSOR_ENTER_PERIPHERAL_TARGET': [81, 82, 83, 84, 85, 86, 87, 88], 'DELAY_PENALTY': 66, 'HOLD_PENALTY': 64, 'PAUSE': 254, 'PERIPHERAL_TARGET_ON': [17, 18, 19, 20, 21, 22, 23, 24], 'REWARD': 48, 'TIMEOUT_PENALTY': 65, 'TIME_ZERO': 238, 'TRIAL_END': 239, 'TRIAL_START': 2, 'CURSOR_ENTER_TARGET': 80, 'CURSOR_LEAVE_TARGET': 96, 'OTHER_PENALTY': 79, 'PAUSE_START': 128, 'PAUSE_END': 129}\n"
     ]
    }
   ],
   "source": [
    "#load task codes \n",
    "task_codes = aopy.data.load_bmi3d_task_codes() #empty argument loads task_codes.yaml file \n",
    "print(task_codes)\n",
    "#If using task that has different pairing of events to codes then a new .yaml file can be made with the correct matching. "
   ]
  },
  {
   "cell_type": "code",
   "execution_count": 8,
   "id": "066c888f",
   "metadata": {
    "ExecuteTime": {
     "end_time": "2024-12-19T19:07:10.410888Z",
     "start_time": "2024-12-19T19:07:10.402381Z"
    }
   },
   "outputs": [],
   "source": [
    "#Get the desired set of codes for start, end, reward and penalty events. \n",
    "#These can be changed to any existing event in the task_code file. \n",
    "#In this example take from center target on to end of trial. \n",
    "trial_start_codes = [task_codes['CENTER_TARGET_ON']]\n",
    "trial_end_codes = [task_codes['TRIAL_END']]\n",
    "reward_codes = [task_codes['REWARD']]\n",
    "penalty_codes = [task_codes['HOLD_PENALTY'], task_codes['TIMEOUT_PENALTY'],\n",
    "                 task_codes['DELAY_PENALTY'], #task_codes['FIXATION_PENALTY'],\n",
    "                task_codes['OTHER_PENALTY']]"
   ]
  },
  {
   "cell_type": "code",
   "execution_count": 9,
   "id": "0a51f931",
   "metadata": {
    "ExecuteTime": {
     "end_time": "2024-12-19T19:07:15.615146Z",
     "start_time": "2024-12-19T19:07:12.938169Z"
    }
   },
   "outputs": [
    {
     "data": {
      "application/vnd.jupyter.widget-view+json": {
       "model_id": "ba1e1c66ad044ae68c747399307bdff5",
       "version_major": 2,
       "version_minor": 0
      },
      "text/plain": [
       "  0%|          | 0/18 [00:00<?, ?it/s]"
      ]
     },
     "metadata": {},
     "output_type": "display_data"
    },
    {
     "data": {
      "text/html": [
       "<div>\n",
       "<style scoped>\n",
       "    .dataframe tbody tr th:only-of-type {\n",
       "        vertical-align: middle;\n",
       "    }\n",
       "\n",
       "    .dataframe tbody tr th {\n",
       "        vertical-align: top;\n",
       "    }\n",
       "\n",
       "    .dataframe thead th {\n",
       "        text-align: right;\n",
       "    }\n",
       "</style>\n",
       "<table border=\"1\" class=\"dataframe\">\n",
       "  <thead>\n",
       "    <tr style=\"text-align: right;\">\n",
       "      <th></th>\n",
       "      <th>subject</th>\n",
       "      <th>te_id</th>\n",
       "      <th>date</th>\n",
       "      <th>event_codes</th>\n",
       "      <th>event_times</th>\n",
       "      <th>reward</th>\n",
       "      <th>penalty</th>\n",
       "    </tr>\n",
       "  </thead>\n",
       "  <tbody>\n",
       "    <tr>\n",
       "      <th>0</th>\n",
       "      <td>affi</td>\n",
       "      <td>9402</td>\n",
       "      <td>2023-05-22</td>\n",
       "      <td>[16, 80, 21, 32, 85, 48, 239]</td>\n",
       "      <td>[5.02072, 5.0292, 5.18752, 5.42884, 6.0542, 6....</td>\n",
       "      <td>True</td>\n",
       "      <td>False</td>\n",
       "    </tr>\n",
       "    <tr>\n",
       "      <th>1</th>\n",
       "      <td>affi</td>\n",
       "      <td>9402</td>\n",
       "      <td>2023-05-22</td>\n",
       "      <td>[16, 80, 20, 32, 84, 48, 239]</td>\n",
       "      <td>[6.52052, 6.8042, 6.96264, 7.04544, 7.4624, 7....</td>\n",
       "      <td>True</td>\n",
       "      <td>False</td>\n",
       "    </tr>\n",
       "    <tr>\n",
       "      <th>2</th>\n",
       "      <td>affi</td>\n",
       "      <td>9402</td>\n",
       "      <td>2023-05-22</td>\n",
       "      <td>[16, 80, 22, 32, 86, 48, 239]</td>\n",
       "      <td>[7.9288, 8.3456, 8.50416, 8.9454, 9.34588, 9.5...</td>\n",
       "      <td>True</td>\n",
       "      <td>False</td>\n",
       "    </tr>\n",
       "    <tr>\n",
       "      <th>3</th>\n",
       "      <td>affi</td>\n",
       "      <td>9402</td>\n",
       "      <td>2023-05-22</td>\n",
       "      <td>[16, 80, 17, 32, 81, 48, 239]</td>\n",
       "      <td>[9.86216, 10.09564, 10.25408, 10.40384, 10.829...</td>\n",
       "      <td>True</td>\n",
       "      <td>False</td>\n",
       "    </tr>\n",
       "    <tr>\n",
       "      <th>4</th>\n",
       "      <td>affi</td>\n",
       "      <td>9402</td>\n",
       "      <td>2023-05-22</td>\n",
       "      <td>[16, 80, 23, 32, 87, 48, 239]</td>\n",
       "      <td>[11.36216, 11.67904, 11.83772, 12.17996, 12.64...</td>\n",
       "      <td>True</td>\n",
       "      <td>False</td>\n",
       "    </tr>\n",
       "    <tr>\n",
       "      <th>...</th>\n",
       "      <td>...</td>\n",
       "      <td>...</td>\n",
       "      <td>...</td>\n",
       "      <td>...</td>\n",
       "      <td>...</td>\n",
       "      <td>...</td>\n",
       "      <td>...</td>\n",
       "    </tr>\n",
       "    <tr>\n",
       "      <th>3094</th>\n",
       "      <td>affi</td>\n",
       "      <td>9522</td>\n",
       "      <td>2023-05-27</td>\n",
       "      <td>[16, 80, 21, 66, 239]</td>\n",
       "      <td>[380.06828, 380.17668, 380.3342, 380.92856, 38...</td>\n",
       "      <td>False</td>\n",
       "      <td>True</td>\n",
       "    </tr>\n",
       "    <tr>\n",
       "      <th>3095</th>\n",
       "      <td>affi</td>\n",
       "      <td>9522</td>\n",
       "      <td>2023-05-27</td>\n",
       "      <td>[16, 80, 21, 32, 85, 48, 239]</td>\n",
       "      <td>[381.78492, 381.9602, 382.11868, 382.70168, 38...</td>\n",
       "      <td>True</td>\n",
       "      <td>False</td>\n",
       "    </tr>\n",
       "    <tr>\n",
       "      <th>3096</th>\n",
       "      <td>affi</td>\n",
       "      <td>9522</td>\n",
       "      <td>2023-05-27</td>\n",
       "      <td>[16, 80, 24, 32, 88, 48, 239]</td>\n",
       "      <td>[395.15992, 395.89352, 396.05172, 396.21012, 3...</td>\n",
       "      <td>True</td>\n",
       "      <td>False</td>\n",
       "    </tr>\n",
       "    <tr>\n",
       "      <th>3097</th>\n",
       "      <td>affi</td>\n",
       "      <td>9522</td>\n",
       "      <td>2023-05-27</td>\n",
       "      <td>[16, 80, 20, 32, 84, 48, 239]</td>\n",
       "      <td>[397.32668, 397.40176, 397.56208, 398.03492, 3...</td>\n",
       "      <td>True</td>\n",
       "      <td>False</td>\n",
       "    </tr>\n",
       "    <tr>\n",
       "      <th>3098</th>\n",
       "      <td>affi</td>\n",
       "      <td>9522</td>\n",
       "      <td>2023-05-27</td>\n",
       "      <td>[16, 80, 19, 32, 83, 48, 239]</td>\n",
       "      <td>[399.2682, 399.54328, 399.702, 400.0932, 400.9...</td>\n",
       "      <td>True</td>\n",
       "      <td>False</td>\n",
       "    </tr>\n",
       "  </tbody>\n",
       "</table>\n",
       "<p>3099 rows × 7 columns</p>\n",
       "</div>"
      ],
      "text/plain": [
       "     subject  te_id        date                    event_codes  \\\n",
       "0       affi   9402  2023-05-22  [16, 80, 21, 32, 85, 48, 239]   \n",
       "1       affi   9402  2023-05-22  [16, 80, 20, 32, 84, 48, 239]   \n",
       "2       affi   9402  2023-05-22  [16, 80, 22, 32, 86, 48, 239]   \n",
       "3       affi   9402  2023-05-22  [16, 80, 17, 32, 81, 48, 239]   \n",
       "4       affi   9402  2023-05-22  [16, 80, 23, 32, 87, 48, 239]   \n",
       "...      ...    ...         ...                            ...   \n",
       "3094    affi   9522  2023-05-27          [16, 80, 21, 66, 239]   \n",
       "3095    affi   9522  2023-05-27  [16, 80, 21, 32, 85, 48, 239]   \n",
       "3096    affi   9522  2023-05-27  [16, 80, 24, 32, 88, 48, 239]   \n",
       "3097    affi   9522  2023-05-27  [16, 80, 20, 32, 84, 48, 239]   \n",
       "3098    affi   9522  2023-05-27  [16, 80, 19, 32, 83, 48, 239]   \n",
       "\n",
       "                                            event_times  reward  penalty  \n",
       "0     [5.02072, 5.0292, 5.18752, 5.42884, 6.0542, 6....    True    False  \n",
       "1     [6.52052, 6.8042, 6.96264, 7.04544, 7.4624, 7....    True    False  \n",
       "2     [7.9288, 8.3456, 8.50416, 8.9454, 9.34588, 9.5...    True    False  \n",
       "3     [9.86216, 10.09564, 10.25408, 10.40384, 10.829...    True    False  \n",
       "4     [11.36216, 11.67904, 11.83772, 12.17996, 12.64...    True    False  \n",
       "...                                                 ...     ...      ...  \n",
       "3094  [380.06828, 380.17668, 380.3342, 380.92856, 38...   False     True  \n",
       "3095  [381.78492, 381.9602, 382.11868, 382.70168, 38...    True    False  \n",
       "3096  [395.15992, 395.89352, 396.05172, 396.21012, 3...    True    False  \n",
       "3097  [397.32668, 397.40176, 397.56208, 398.03492, 3...    True    False  \n",
       "3098  [399.2682, 399.54328, 399.702, 400.0932, 400.9...    True    False  \n",
       "\n",
       "[3099 rows x 7 columns]"
      ]
     },
     "metadata": {},
     "output_type": "display_data"
    }
   ],
   "source": [
    "#Tabulate the data\n",
    "df = aopy.data.tabulate_behavior_data(preproc_dir, subjects, te_ids, dates,\n",
    "                                                   trial_start_codes, trial_end_codes,\n",
    "                                                   reward_codes,penalty_codes)\n",
    "display(df)"
   ]
  },
  {
   "cell_type": "markdown",
   "id": "2a4be3aa",
   "metadata": {},
   "source": [
    "## Working with a Task without an Existing Wrapper Function\n",
    "Many tasks already have existing functions that wrap around the core tabulate_behavior function and add task relevant information to that table (for example: tabulate_center_out). In the event that there is a new task structure, tabulate_behavior_data can be used to construct an initial data frame. Task relevant columns can then be added as necessary. "
   ]
  },
  {
   "cell_type": "markdown",
   "id": "9eb6843c",
   "metadata": {},
   "source": [
    "In this example case, the task involved a moving a 3D cursor (small sphere) into a series of larger target sphere that appeared at random locations (x,y,z) in the world. "
   ]
  },
  {
   "cell_type": "code",
   "execution_count": 10,
   "id": "01b28872",
   "metadata": {
    "ExecuteTime": {
     "end_time": "2024-12-19T19:07:18.159656Z",
     "start_time": "2024-12-19T19:07:18.108105Z"
    }
   },
   "outputs": [
    {
     "name": "stdout",
     "output_type": "stream",
     "text": [
      "[2024-12-03 11:52:20.714869: Marios on manual control task, id=1021]\n"
     ]
    }
   ],
   "source": [
    "#Make sure to be in correct database & directory \n",
    "db.BMI3D_DBNAME = 'human' #switch database  \n",
    "preproc_dir = '/data/preprocessed-human' #switch directory  \n",
    "entry = db.lookup_sessions(id=1021)\n",
    "print(entry)\n",
    "subjects, te_ids, dates = db.list_entry_details(entry)"
   ]
  },
  {
   "cell_type": "code",
   "execution_count": 11,
   "id": "96039a9d",
   "metadata": {
    "ExecuteTime": {
     "end_time": "2024-12-19T19:07:19.526165Z",
     "start_time": "2024-12-19T19:07:19.474279Z"
    }
   },
   "outputs": [
    {
     "data": {
      "text/plain": [
       "array([( 0.43085592, 238, b'TIME_ZERO', 0),\n",
       "       ( 0.53287636,  16, b'TARGET_ON', 0),\n",
       "       ( 3.33419922,  80, b'CURSOR_ENTER_TARGET', 0),\n",
       "       ( 3.48965828,  64, b'HOLD_PENALTY', 0),\n",
       "       ( 4.50075175, 239, b'TRIAL_END', 0),\n",
       "       ( 4.51215393,  16, b'TARGET_ON', 0),\n",
       "       ( 5.37907647,  80, b'CURSOR_ENTER_TARGET', 0),\n",
       "       ( 5.56697736,  64, b'HOLD_PENALTY', 0),\n",
       "       ( 6.57773676, 239, b'TRIAL_END', 0),\n",
       "       ( 6.58909489,  16, b'TARGET_ON', 0),\n",
       "       ( 6.98955023,  80, b'CURSOR_ENTER_TARGET', 0),\n",
       "       ( 7.22361866,  48, b'REWARD', 0),\n",
       "       ( 7.73399902, 239, b'TRIAL_END', 0),\n",
       "       ( 7.84590579,  17, b'TARGET_ON', 1),\n",
       "       (10.25732578,  81, b'CURSOR_ENTER_TARGET', 1),\n",
       "       (10.48833736,  48, b'REWARD', 0),\n",
       "       (10.9888225 , 239, b'TRIAL_END', 0),\n",
       "       (11.10078932,  18, b'TARGET_ON', 2),\n",
       "       (13.44481935,  82, b'CURSOR_ENTER_TARGET', 2),\n",
       "       (13.67770084,  48, b'REWARD', 0)],\n",
       "      dtype=[('timestamp', '<f8'), ('code', 'u1'), ('event', 'S32'), ('data', '<u4')])"
      ]
     },
     "execution_count": 11,
     "metadata": {},
     "output_type": "execute_result"
    }
   ],
   "source": [
    "#Load file to get an idea of the different events & codes in this task \n",
    "subject_hm = 'Marios'\n",
    "id_hm = 1021\n",
    "date_hm = '2024-12-03'\n",
    "exp_data, exp_metadata = aopy.data.base.load_preproc_exp_data(preproc_dir, \n",
    "                                            subject_hm, id_hm, date_hm, cached=True)\n",
    "exp_data['events'][0:20]"
   ]
  },
  {
   "cell_type": "markdown",
   "id": "5e17d208",
   "metadata": {},
   "source": [
    "In this case, some of the task codes/entries are different from the baseline center out ones. As mentioned above, one option to pair the new codes is to create a new \".yaml\" file with the matching events & codes. A second option is to load an example file and create a dictionary of the existing events with corresponding codes. "
   ]
  },
  {
   "cell_type": "markdown",
   "id": "20e8ff32",
   "metadata": {},
   "source": [
    "### Alternative to Changing Task File"
   ]
  },
  {
   "cell_type": "code",
   "execution_count": 12,
   "id": "0bab20a6",
   "metadata": {
    "ExecuteTime": {
     "end_time": "2024-12-19T19:07:22.908769Z",
     "start_time": "2024-12-19T19:07:22.901533Z"
    }
   },
   "outputs": [],
   "source": [
    "#Toy Function to pull out relevant codes for each event name\n",
    "def find_codes(targ_array, target_value):\n",
    "    code_matcher = [] #initialize \n",
    "    for row in targ_array: #for every entry (4 dimensional array: timestamp, codes, event, data)\n",
    "        if row[2] == target_value and row[1] not in code_matcher: #match if not already in \n",
    "            code_matcher.append(row[1])\n",
    "    return code_matcher"
   ]
  },
  {
   "cell_type": "code",
   "execution_count": 13,
   "id": "343cf0af",
   "metadata": {
    "ExecuteTime": {
     "end_time": "2024-12-19T19:07:24.648224Z",
     "start_time": "2024-12-19T19:07:24.633991Z"
    }
   },
   "outputs": [],
   "source": [
    "targ_array = exp_data['events'] #all events, codes, timestamps \n",
    "ev_keys = list(set(exp_data['events']['event'])) #get all event code names \n",
    "keys = [s.decode('utf-8') for s in ev_keys] # reformat from byte to string\n",
    "sample_task = dict.fromkeys(keys,0) #initialize dict\n",
    "\n",
    "#populate dictionary \n",
    "for idx, ky in enumerate(sample_task):\n",
    "    sample_task[ky] = find_codes(targ_array,ev_keys[idx])"
   ]
  },
  {
   "cell_type": "code",
   "execution_count": 14,
   "id": "81a0b0d0",
   "metadata": {
    "ExecuteTime": {
     "end_time": "2024-12-19T19:07:26.777635Z",
     "start_time": "2024-12-19T19:07:26.770395Z"
    }
   },
   "outputs": [],
   "source": [
    "#The event names will be a bit different so match the necessary start, stop etc to the new event names.\n",
    "reward_codes = sample_task['REWARD']\n",
    "penalty_codes = sample_task['HOLD_PENALTY']+ sample_task['DELAY_PENALTY']\n",
    "trial_end_codes = sample_task['TRIAL_END']\n",
    "trial_start_codes = sample_task['TARGET_ON']"
   ]
  },
  {
   "cell_type": "code",
   "execution_count": 15,
   "id": "800a5118",
   "metadata": {
    "ExecuteTime": {
     "end_time": "2024-12-19T19:07:28.170063Z",
     "start_time": "2024-12-19T19:07:28.088220Z"
    }
   },
   "outputs": [
    {
     "data": {
      "application/vnd.jupyter.widget-view+json": {
       "model_id": "f62659b4e5da4b2a98dbbbbf68ef9504",
       "version_major": 2,
       "version_minor": 0
      },
      "text/plain": [
       "  0%|          | 0/1 [00:00<?, ?it/s]"
      ]
     },
     "metadata": {},
     "output_type": "display_data"
    },
    {
     "data": {
      "text/html": [
       "<div>\n",
       "<style scoped>\n",
       "    .dataframe tbody tr th:only-of-type {\n",
       "        vertical-align: middle;\n",
       "    }\n",
       "\n",
       "    .dataframe tbody tr th {\n",
       "        vertical-align: top;\n",
       "    }\n",
       "\n",
       "    .dataframe thead th {\n",
       "        text-align: right;\n",
       "    }\n",
       "</style>\n",
       "<table border=\"1\" class=\"dataframe\">\n",
       "  <thead>\n",
       "    <tr style=\"text-align: right;\">\n",
       "      <th></th>\n",
       "      <th>subject</th>\n",
       "      <th>te_id</th>\n",
       "      <th>date</th>\n",
       "      <th>event_codes</th>\n",
       "      <th>event_times</th>\n",
       "      <th>reward</th>\n",
       "      <th>penalty</th>\n",
       "    </tr>\n",
       "  </thead>\n",
       "  <tbody>\n",
       "    <tr>\n",
       "      <th>0</th>\n",
       "      <td>Marios</td>\n",
       "      <td>1021</td>\n",
       "      <td>2024-12-03</td>\n",
       "      <td>[16, 80, 64, 239]</td>\n",
       "      <td>[0.5328763616271317, 3.334199216682464, 3.4896...</td>\n",
       "      <td>False</td>\n",
       "      <td>True</td>\n",
       "    </tr>\n",
       "    <tr>\n",
       "      <th>1</th>\n",
       "      <td>Marios</td>\n",
       "      <td>1021</td>\n",
       "      <td>2024-12-03</td>\n",
       "      <td>[16, 80, 64, 239]</td>\n",
       "      <td>[4.5121539337560534, 5.37907646689564, 5.56697...</td>\n",
       "      <td>False</td>\n",
       "      <td>True</td>\n",
       "    </tr>\n",
       "    <tr>\n",
       "      <th>2</th>\n",
       "      <td>Marios</td>\n",
       "      <td>1021</td>\n",
       "      <td>2024-12-03</td>\n",
       "      <td>[16, 80, 48, 239]</td>\n",
       "      <td>[6.589094891678542, 6.9895502319559455, 7.2236...</td>\n",
       "      <td>True</td>\n",
       "      <td>False</td>\n",
       "    </tr>\n",
       "    <tr>\n",
       "      <th>3</th>\n",
       "      <td>Marios</td>\n",
       "      <td>1021</td>\n",
       "      <td>2024-12-03</td>\n",
       "      <td>[17, 81, 48, 239]</td>\n",
       "      <td>[7.8459057859145105, 10.25732578476891, 10.488...</td>\n",
       "      <td>True</td>\n",
       "      <td>False</td>\n",
       "    </tr>\n",
       "    <tr>\n",
       "      <th>4</th>\n",
       "      <td>Marios</td>\n",
       "      <td>1021</td>\n",
       "      <td>2024-12-03</td>\n",
       "      <td>[18, 82, 48, 239]</td>\n",
       "      <td>[11.10078932158649, 13.444819350726902, 13.677...</td>\n",
       "      <td>True</td>\n",
       "      <td>False</td>\n",
       "    </tr>\n",
       "    <tr>\n",
       "      <th>...</th>\n",
       "      <td>...</td>\n",
       "      <td>...</td>\n",
       "      <td>...</td>\n",
       "      <td>...</td>\n",
       "      <td>...</td>\n",
       "      <td>...</td>\n",
       "      <td>...</td>\n",
       "    </tr>\n",
       "    <tr>\n",
       "      <th>95</th>\n",
       "      <td>Marios</td>\n",
       "      <td>1021</td>\n",
       "      <td>2024-12-03</td>\n",
       "      <td>[29, 93, 48, 239]</td>\n",
       "      <td>[277.91298533789814, 279.2335839876905, 279.46...</td>\n",
       "      <td>True</td>\n",
       "      <td>False</td>\n",
       "    </tr>\n",
       "    <tr>\n",
       "      <th>96</th>\n",
       "      <td>Marios</td>\n",
       "      <td>1021</td>\n",
       "      <td>2024-12-03</td>\n",
       "      <td>[29, 93, 48, 239]</td>\n",
       "      <td>[280.08859699079767, 282.2669101296924, 282.49...</td>\n",
       "      <td>True</td>\n",
       "      <td>False</td>\n",
       "    </tr>\n",
       "    <tr>\n",
       "      <th>97</th>\n",
       "      <td>Marios</td>\n",
       "      <td>1021</td>\n",
       "      <td>2024-12-03</td>\n",
       "      <td>[29, 93, 48, 239]</td>\n",
       "      <td>[283.1231632786803, 286.4781783237122, 286.700...</td>\n",
       "      <td>True</td>\n",
       "      <td>False</td>\n",
       "    </tr>\n",
       "    <tr>\n",
       "      <th>98</th>\n",
       "      <td>Marios</td>\n",
       "      <td>1021</td>\n",
       "      <td>2024-12-03</td>\n",
       "      <td>[29, 93, 64, 239]</td>\n",
       "      <td>[287.32312778476626, 287.70038594165817, 287.7...</td>\n",
       "      <td>False</td>\n",
       "      <td>True</td>\n",
       "    </tr>\n",
       "    <tr>\n",
       "      <th>99</th>\n",
       "      <td>Marios</td>\n",
       "      <td>1021</td>\n",
       "      <td>2024-12-03</td>\n",
       "      <td>[29, 93, 48, 239]</td>\n",
       "      <td>[288.73400478158146, 289.2449128027074, 289.47...</td>\n",
       "      <td>True</td>\n",
       "      <td>False</td>\n",
       "    </tr>\n",
       "  </tbody>\n",
       "</table>\n",
       "<p>100 rows × 7 columns</p>\n",
       "</div>"
      ],
      "text/plain": [
       "   subject  te_id        date        event_codes  \\\n",
       "0   Marios   1021  2024-12-03  [16, 80, 64, 239]   \n",
       "1   Marios   1021  2024-12-03  [16, 80, 64, 239]   \n",
       "2   Marios   1021  2024-12-03  [16, 80, 48, 239]   \n",
       "3   Marios   1021  2024-12-03  [17, 81, 48, 239]   \n",
       "4   Marios   1021  2024-12-03  [18, 82, 48, 239]   \n",
       "..     ...    ...         ...                ...   \n",
       "95  Marios   1021  2024-12-03  [29, 93, 48, 239]   \n",
       "96  Marios   1021  2024-12-03  [29, 93, 48, 239]   \n",
       "97  Marios   1021  2024-12-03  [29, 93, 48, 239]   \n",
       "98  Marios   1021  2024-12-03  [29, 93, 64, 239]   \n",
       "99  Marios   1021  2024-12-03  [29, 93, 48, 239]   \n",
       "\n",
       "                                          event_times  reward  penalty  \n",
       "0   [0.5328763616271317, 3.334199216682464, 3.4896...   False     True  \n",
       "1   [4.5121539337560534, 5.37907646689564, 5.56697...   False     True  \n",
       "2   [6.589094891678542, 6.9895502319559455, 7.2236...    True    False  \n",
       "3   [7.8459057859145105, 10.25732578476891, 10.488...    True    False  \n",
       "4   [11.10078932158649, 13.444819350726902, 13.677...    True    False  \n",
       "..                                                ...     ...      ...  \n",
       "95  [277.91298533789814, 279.2335839876905, 279.46...    True    False  \n",
       "96  [280.08859699079767, 282.2669101296924, 282.49...    True    False  \n",
       "97  [283.1231632786803, 286.4781783237122, 286.700...    True    False  \n",
       "98  [287.32312778476626, 287.70038594165817, 287.7...   False     True  \n",
       "99  [288.73400478158146, 289.2449128027074, 289.47...    True    False  \n",
       "\n",
       "[100 rows x 7 columns]"
      ]
     },
     "metadata": {},
     "output_type": "display_data"
    }
   ],
   "source": [
    "df_beh = aopy.data.bmi3d.tabulate_behavior_data(preproc_dir, subjects, te_ids , dates,\n",
    "                                                   trial_start_codes, trial_end_codes,\n",
    "                                                   reward_codes,penalty_codes)\n",
    "display(df_beh)"
   ]
  },
  {
   "cell_type": "markdown",
   "id": "1de3c0f0",
   "metadata": {},
   "source": [
    "It might also be useful to add some task relevant data. n this example, adding the unique target location information for each trial. From the task structure, each unique target location has a different \"CURSOR_ENTER_TARGET\" value in the data field of the array. Using these values as an index can link the specific target for a given trial. "
   ]
  },
  {
   "cell_type": "code",
   "execution_count": 16,
   "id": "14f34d03",
   "metadata": {
    "ExecuteTime": {
     "end_time": "2024-12-19T19:07:31.047494Z",
     "start_time": "2024-12-19T19:07:31.029686Z"
    }
   },
   "outputs": [],
   "source": [
    "#map unique target locations onto each trial \n",
    "idx_bool = np.array([np.array_equal(x,b'CURSOR_ENTER_TARGET') for x in exp_data['events']['event']])\n",
    "targ_idx = exp_data['events']['data'][idx_bool]\n",
    "#use get target locations function to get (x,y,z) coordinates for each target\n",
    "target_loc = aopy.data.bmi3d.get_target_locations(preproc_dir, \n",
    "                                                       'Marios', 1021, '2024-12-03', targ_idx)"
   ]
  },
  {
   "cell_type": "code",
   "execution_count": 17,
   "id": "538b5297",
   "metadata": {
    "ExecuteTime": {
     "end_time": "2024-12-19T19:07:32.681455Z",
     "start_time": "2024-12-19T19:07:32.635291Z"
    }
   },
   "outputs": [
    {
     "data": {
      "text/html": [
       "<div>\n",
       "<style scoped>\n",
       "    .dataframe tbody tr th:only-of-type {\n",
       "        vertical-align: middle;\n",
       "    }\n",
       "\n",
       "    .dataframe tbody tr th {\n",
       "        vertical-align: top;\n",
       "    }\n",
       "\n",
       "    .dataframe thead th {\n",
       "        text-align: right;\n",
       "    }\n",
       "</style>\n",
       "<table border=\"1\" class=\"dataframe\">\n",
       "  <thead>\n",
       "    <tr style=\"text-align: right;\">\n",
       "      <th></th>\n",
       "      <th>subject</th>\n",
       "      <th>te_id</th>\n",
       "      <th>date</th>\n",
       "      <th>event_codes</th>\n",
       "      <th>event_times</th>\n",
       "      <th>reward</th>\n",
       "      <th>penalty</th>\n",
       "      <th>target_idx</th>\n",
       "      <th>target_location</th>\n",
       "    </tr>\n",
       "  </thead>\n",
       "  <tbody>\n",
       "    <tr>\n",
       "      <th>0</th>\n",
       "      <td>Marios</td>\n",
       "      <td>1021</td>\n",
       "      <td>2024-12-03</td>\n",
       "      <td>[16, 80, 64, 239]</td>\n",
       "      <td>[0.5328763616271317, 3.334199216682464, 3.4896...</td>\n",
       "      <td>False</td>\n",
       "      <td>True</td>\n",
       "      <td>0</td>\n",
       "      <td>[3.7882, 0.2797, -9.864]</td>\n",
       "    </tr>\n",
       "    <tr>\n",
       "      <th>1</th>\n",
       "      <td>Marios</td>\n",
       "      <td>1021</td>\n",
       "      <td>2024-12-03</td>\n",
       "      <td>[16, 80, 64, 239]</td>\n",
       "      <td>[4.5121539337560534, 5.37907646689564, 5.56697...</td>\n",
       "      <td>False</td>\n",
       "      <td>True</td>\n",
       "      <td>0</td>\n",
       "      <td>[3.7882, 0.2797, -9.864]</td>\n",
       "    </tr>\n",
       "    <tr>\n",
       "      <th>2</th>\n",
       "      <td>Marios</td>\n",
       "      <td>1021</td>\n",
       "      <td>2024-12-03</td>\n",
       "      <td>[16, 80, 48, 239]</td>\n",
       "      <td>[6.589094891678542, 6.9895502319559455, 7.2236...</td>\n",
       "      <td>True</td>\n",
       "      <td>False</td>\n",
       "      <td>0</td>\n",
       "      <td>[3.7882, 0.2797, -9.864]</td>\n",
       "    </tr>\n",
       "    <tr>\n",
       "      <th>3</th>\n",
       "      <td>Marios</td>\n",
       "      <td>1021</td>\n",
       "      <td>2024-12-03</td>\n",
       "      <td>[17, 81, 48, 239]</td>\n",
       "      <td>[7.8459057859145105, 10.25732578476891, 10.488...</td>\n",
       "      <td>True</td>\n",
       "      <td>False</td>\n",
       "      <td>1</td>\n",
       "      <td>[-0.2369, -6.2414, -0.1721]</td>\n",
       "    </tr>\n",
       "    <tr>\n",
       "      <th>4</th>\n",
       "      <td>Marios</td>\n",
       "      <td>1021</td>\n",
       "      <td>2024-12-03</td>\n",
       "      <td>[18, 82, 48, 239]</td>\n",
       "      <td>[11.10078932158649, 13.444819350726902, 13.677...</td>\n",
       "      <td>True</td>\n",
       "      <td>False</td>\n",
       "      <td>2</td>\n",
       "      <td>[8.154, 9.7902, -9.5683]</td>\n",
       "    </tr>\n",
       "    <tr>\n",
       "      <th>...</th>\n",
       "      <td>...</td>\n",
       "      <td>...</td>\n",
       "      <td>...</td>\n",
       "      <td>...</td>\n",
       "      <td>...</td>\n",
       "      <td>...</td>\n",
       "      <td>...</td>\n",
       "      <td>...</td>\n",
       "      <td>...</td>\n",
       "    </tr>\n",
       "    <tr>\n",
       "      <th>95</th>\n",
       "      <td>Marios</td>\n",
       "      <td>1021</td>\n",
       "      <td>2024-12-03</td>\n",
       "      <td>[29, 93, 48, 239]</td>\n",
       "      <td>[277.91298533789814, 279.2335839876905, 279.46...</td>\n",
       "      <td>True</td>\n",
       "      <td>False</td>\n",
       "      <td>70</td>\n",
       "      <td>[-8.8936, 4.245, -3.5062]</td>\n",
       "    </tr>\n",
       "    <tr>\n",
       "      <th>96</th>\n",
       "      <td>Marios</td>\n",
       "      <td>1021</td>\n",
       "      <td>2024-12-03</td>\n",
       "      <td>[29, 93, 48, 239]</td>\n",
       "      <td>[280.08859699079767, 282.2669101296924, 282.49...</td>\n",
       "      <td>True</td>\n",
       "      <td>False</td>\n",
       "      <td>71</td>\n",
       "      <td>[7.4059, -0.8664, -2.3757]</td>\n",
       "    </tr>\n",
       "    <tr>\n",
       "      <th>97</th>\n",
       "      <td>Marios</td>\n",
       "      <td>1021</td>\n",
       "      <td>2024-12-03</td>\n",
       "      <td>[29, 93, 48, 239]</td>\n",
       "      <td>[283.1231632786803, 286.4781783237122, 286.700...</td>\n",
       "      <td>True</td>\n",
       "      <td>False</td>\n",
       "      <td>72</td>\n",
       "      <td>[-0.978, 9.7775, 6.0346]</td>\n",
       "    </tr>\n",
       "    <tr>\n",
       "      <th>98</th>\n",
       "      <td>Marios</td>\n",
       "      <td>1021</td>\n",
       "      <td>2024-12-03</td>\n",
       "      <td>[29, 93, 64, 239]</td>\n",
       "      <td>[287.32312778476626, 287.70038594165817, 287.7...</td>\n",
       "      <td>False</td>\n",
       "      <td>True</td>\n",
       "      <td>73</td>\n",
       "      <td>[2.6701, 5.7285, -6.5313]</td>\n",
       "    </tr>\n",
       "    <tr>\n",
       "      <th>99</th>\n",
       "      <td>Marios</td>\n",
       "      <td>1021</td>\n",
       "      <td>2024-12-03</td>\n",
       "      <td>[29, 93, 48, 239]</td>\n",
       "      <td>[288.73400478158146, 289.2449128027074, 289.47...</td>\n",
       "      <td>True</td>\n",
       "      <td>False</td>\n",
       "      <td>73</td>\n",
       "      <td>[2.6701, 5.7285, -6.5313]</td>\n",
       "    </tr>\n",
       "  </tbody>\n",
       "</table>\n",
       "<p>100 rows × 9 columns</p>\n",
       "</div>"
      ],
      "text/plain": [
       "   subject  te_id        date        event_codes  \\\n",
       "0   Marios   1021  2024-12-03  [16, 80, 64, 239]   \n",
       "1   Marios   1021  2024-12-03  [16, 80, 64, 239]   \n",
       "2   Marios   1021  2024-12-03  [16, 80, 48, 239]   \n",
       "3   Marios   1021  2024-12-03  [17, 81, 48, 239]   \n",
       "4   Marios   1021  2024-12-03  [18, 82, 48, 239]   \n",
       "..     ...    ...         ...                ...   \n",
       "95  Marios   1021  2024-12-03  [29, 93, 48, 239]   \n",
       "96  Marios   1021  2024-12-03  [29, 93, 48, 239]   \n",
       "97  Marios   1021  2024-12-03  [29, 93, 48, 239]   \n",
       "98  Marios   1021  2024-12-03  [29, 93, 64, 239]   \n",
       "99  Marios   1021  2024-12-03  [29, 93, 48, 239]   \n",
       "\n",
       "                                          event_times  reward  penalty  \\\n",
       "0   [0.5328763616271317, 3.334199216682464, 3.4896...   False     True   \n",
       "1   [4.5121539337560534, 5.37907646689564, 5.56697...   False     True   \n",
       "2   [6.589094891678542, 6.9895502319559455, 7.2236...    True    False   \n",
       "3   [7.8459057859145105, 10.25732578476891, 10.488...    True    False   \n",
       "4   [11.10078932158649, 13.444819350726902, 13.677...    True    False   \n",
       "..                                                ...     ...      ...   \n",
       "95  [277.91298533789814, 279.2335839876905, 279.46...    True    False   \n",
       "96  [280.08859699079767, 282.2669101296924, 282.49...    True    False   \n",
       "97  [283.1231632786803, 286.4781783237122, 286.700...    True    False   \n",
       "98  [287.32312778476626, 287.70038594165817, 287.7...   False     True   \n",
       "99  [288.73400478158146, 289.2449128027074, 289.47...    True    False   \n",
       "\n",
       "    target_idx              target_location  \n",
       "0            0     [3.7882, 0.2797, -9.864]  \n",
       "1            0     [3.7882, 0.2797, -9.864]  \n",
       "2            0     [3.7882, 0.2797, -9.864]  \n",
       "3            1  [-0.2369, -6.2414, -0.1721]  \n",
       "4            2     [8.154, 9.7902, -9.5683]  \n",
       "..         ...                          ...  \n",
       "95          70    [-8.8936, 4.245, -3.5062]  \n",
       "96          71   [7.4059, -0.8664, -2.3757]  \n",
       "97          72     [-0.978, 9.7775, 6.0346]  \n",
       "98          73    [2.6701, 5.7285, -6.5313]  \n",
       "99          73    [2.6701, 5.7285, -6.5313]  \n",
       "\n",
       "[100 rows x 9 columns]"
      ]
     },
     "metadata": {},
     "output_type": "display_data"
    }
   ],
   "source": [
    "#Add to data frame\n",
    "df_beh['target_idx'] = targ_idx\n",
    "df_beh['target_location'] = target_loc.tolist()\n",
    "display(df_beh)"
   ]
  }
 ],
 "metadata": {
  "hide_input": false,
  "kernelspec": {
   "display_name": "Python [conda env:mtringi-analysis]",
   "language": "python",
   "name": "conda-env-mtringi-analysis-py"
  },
  "language_info": {
   "codemirror_mode": {
    "name": "ipython",
    "version": 3
   },
   "file_extension": ".py",
   "mimetype": "text/x-python",
   "name": "python",
   "nbconvert_exporter": "python",
   "pygments_lexer": "ipython3",
   "version": "3.9.20"
  },
  "toc": {
   "base_numbering": 1,
   "nav_menu": {},
   "number_sections": true,
   "sideBar": true,
   "skip_h1_title": false,
   "title_cell": "Table of Contents",
   "title_sidebar": "Contents",
   "toc_cell": false,
   "toc_position": {},
   "toc_section_display": true,
   "toc_window_display": false
  }
 },
 "nbformat": 4,
 "nbformat_minor": 5
}

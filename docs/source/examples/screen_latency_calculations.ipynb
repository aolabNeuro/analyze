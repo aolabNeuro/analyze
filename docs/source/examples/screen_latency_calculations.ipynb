{
 "cells": [
  {
   "cell_type": "markdown",
   "source": [
    "# Screen Latency Demo"
   ],
   "metadata": {}
  },
  {
   "cell_type": "markdown",
   "source": [
    "### Setup"
   ],
   "metadata": {}
  },
  {
   "cell_type": "code",
   "execution_count": 1,
   "source": [
    "import aopy\r\n",
    "import os\r\n",
    "import numpy as np\r\n",
    "from scipy import signal\r\n",
    "import matplotlib.pyplot as plt\r\n",
    "from datetime import date\r\n",
    "from bmi3d.db import dbfunctions as db\r\n",
    "\r\n",
    "blocks = [2621, 2622, 2623] #Block IDs to test\r\n",
    "data_dir = \"/data/raw\" # Directory of raw data to load\r\n",
    "pulses2avg = [2,10,10] # Number of pulses to average to calculate latency for each block. "
   ],
   "outputs": [
    {
     "output_type": "stream",
     "name": "stdout",
     "text": [
      "\n"
     ]
    }
   ],
   "metadata": {}
  },
  {
   "cell_type": "markdown",
   "source": [
    "### Load data and calculate latency for each block"
   ],
   "metadata": {}
  },
  {
   "cell_type": "code",
   "execution_count": 4,
   "source": [
    "for iblock, blockid in enumerate(blocks):\r\n",
    "    files = aopy.data.get_filenames_in_dir(data_dir, blockid)\r\n",
    "    print('Files in data_dir: ', files)\r\n",
    "    data, metadata = aopy.preproc.parse_bmi3d(data_dir, files)\r\n",
    "\r\n",
    "    # Clock timing\r\n",
    "    clock_onsets = data['sync_clock']['timestamp']\r\n",
    "    clock_timestamps, clock_values = aopy.preproc.get_edges_from_onsets(clock_onsets, 0.003)\r\n",
    "    \r\n",
    "    # Screen timing    \r\n",
    "    screen_values = data['measure_clock_offline']['value']\r\n",
    "    screen_timestamps = data['measure_clock_offline']['timestamp']\r\n",
    "    \r\n",
    "    # Prepare data for plotting\r\n",
    "    events = [clock_values, screen_values]\r\n",
    "    timestamps = [clock_timestamps, screen_timestamps]\r\n",
    "    labels= ['clock', 'screen']\r\n",
    "    \r\n",
    "    # Plot clock timing and screen timing\r\n",
    "    pulse_time_start = clock_onsets[2]\r\n",
    "    aopy.visualization.plot_events_time(events, timestamps, labels)\r\n",
    "    plt.title('Sync State FPS: '+str(metadata['sync_state_fps']), fontsize=16)\r\n",
    "    plt.xlim((pulse_time_start-0.05, pulse_time_start+.05))\r\n",
    "    plt.show()\r\n",
    "    \r\n",
    "    # Calculate latency\r\n",
    "    latency = np.empty(pulses2avg[iblock])\r\n",
    "    latency[:] = np.nan\r\n",
    "    \r\n",
    "    for ipulse in range(pulses2avg[iblock]):\r\n",
    "        clock_time = clock_onsets[ipulse*2]\r\n",
    "        screen_time,_ = aopy.preproc.get_closest_value(clock_time, screen_timestamps[screen_timestamps>clock_time], radius=1)\r\n",
    "        latency[ipulse] = screen_time - clock_time\r\n",
    "        \r\n",
    "    \r\n",
    "    print('Block:', blockid, ' Average Latency ', np.round(1000*np.nanmean(latency),5), 'ms')\r\n",
    "    \r\n",
    "    print('\\n')"
   ],
   "outputs": [
    {
     "output_type": "stream",
     "name": "stdout",
     "text": [
      "Files in data_dir:  {'hdf': 'hdf/test20210827_11_te2621.hdf', 'ecube': 'ecube/2021-08-27_BMI3D_te2621'}\n",
      "Warning: this bmi3d sync version is untested!\n",
      "Sync latency estimate: 0.0231 s\n",
      "Warning: last event (255) doesn't match bmi3d records (17)\n"
     ]
    },
    {
     "output_type": "display_data",
     "data": {
      "image/png": "[encoded data removed]",
      "text/plain": [
       "<Figure size 432x288 with 1 Axes>"
      ]
     },
     "metadata": {
      "needs_background": "light"
     }
    },
    {
     "output_type": "stream",
     "name": "stdout",
     "text": [
      "Block: 2621  Average Latency  38.2 ms\n",
      "\n",
      "\n",
      "Files in data_dir:  {'hdf': 'hdf/test20210827_12_te2622.hdf', 'ecube': 'ecube/2021-08-27_BMI3D_te2622'}\n",
      "Warning: this bmi3d sync version is untested!\n",
      "Sync latency estimate: 0.0047 s\n",
      "Warning: last event (255) doesn't match bmi3d records (17)\n"
     ]
    },
    {
     "output_type": "display_data",
     "data": {
      "image/png": "[encoded data removed]",
      "text/plain": [
       "<Figure size 432x288 with 1 Axes>"
      ]
     },
     "metadata": {
      "needs_background": "light"
     }
    },
    {
     "output_type": "stream",
     "name": "stdout",
     "text": [
      "Block: 2622  Average Latency  32.256 ms\n",
      "\n",
      "\n",
      "Files in data_dir:  {'hdf': 'hdf/test20210827_13_te2623.hdf', 'ecube': 'ecube/2021-08-27_BMI3D_te2623'}\n",
      "Warning: this bmi3d sync version is untested!\n",
      "Sync latency estimate: 0.0256 s\n",
      "Warning: last event (255) doesn't match bmi3d records (17)\n"
     ]
    },
    {
     "output_type": "display_data",
     "data": {
      "image/png": "[encoded data removed]",
      "text/plain": [
       "<Figure size 432x288 with 1 Axes>"
      ]
     },
     "metadata": {
      "needs_background": "light"
     }
    },
    {
     "output_type": "stream",
     "name": "stdout",
     "text": [
      "Block: 2623  Average Latency  34.012 ms\n",
      "\n",
      "\n"
     ]
    }
   ],
   "metadata": {
    "scrolled": false
   }
  }
 ],
 "metadata": {
  "kernelspec": {
   "display_name": "Python [conda env:ryan_analysis]",
   "language": "python",
   "name": "conda-env-ryan_analysis-py"
  },
  "language_info": {
   "codemirror_mode": {
    "name": "ipython",
    "version": 3
   },
   "file_extension": ".py",
   "mimetype": "text/x-python",
   "name": "python",
   "nbconvert_exporter": "python",
   "pygments_lexer": "ipython3",
   "version": "3.9.6"
  },
  "varInspector": {
   "cols": {
    "lenName": 16,
    "lenType": 16,
    "lenVar": 40
   },
   "kernels_config": {
    "python": {
     "delete_cmd_postfix": "",
     "delete_cmd_prefix": "del ",
     "library": "var_list.py",
     "varRefreshCmd": "print(var_dic_list())"
    },
    "r": {
     "delete_cmd_postfix": ") ",
     "delete_cmd_prefix": "rm(",
     "library": "var_list.r",
     "varRefreshCmd": "cat(var_dic_list()) "
    }
   },
   "types_to_exclude": [
    "module",
    "function",
    "builtin_function_or_method",
    "instance",
    "_Feature"
   ],
   "window_display": false
  }
 },
 "nbformat": 4,
 "nbformat_minor": 5
}
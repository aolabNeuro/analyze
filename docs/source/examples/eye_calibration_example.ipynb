{
 "cells": [
  {
   "cell_type": "markdown",
   "id": "29f955b9-1eb8-4f83-9dac-e851db2125a7",
   "metadata": {},
   "source": [
    "# Eye tracking validation\n",
    "\n",
    "1. Tabulate center-out reaching trials\n",
    "1. Load eye and cursor trajectories at timepoints when the cursor enters targets \n",
    "1. Perform linear regression on X and Y data to find calibration coefficients"
   ]
  },
  {
   "cell_type": "code",
   "execution_count": 1,
   "id": "092ba3fb",
   "metadata": {
    "ExecuteTime": {
     "end_time": "2024-01-25T21:29:06.322829Z",
     "start_time": "2024-01-25T21:29:04.072966Z"
    },
    "execution": {
     "iopub.execute_input": "2024-12-18T18:17:28.339790Z",
     "iopub.status.busy": "2024-12-18T18:17:28.339279Z",
     "iopub.status.idle": "2024-12-18T18:17:31.192716Z",
     "shell.execute_reply": "2024-12-18T18:17:31.191364Z",
     "shell.execute_reply.started": "2024-12-18T18:17:28.339731Z"
    },
    "tags": []
   },
   "outputs": [
    {
     "name": "stderr",
     "output_type": "stream",
     "text": [
      "/home/aolab/miniconda3/envs/leo-analysis/lib/python3.9/site-packages/one/alf/files.py:10: FutureWarning: `one.alf.files` will be removed in version 3.0. Use `one.alf.path` instead.\n",
      "  warnings.warn(\n",
      "/home/aolab/miniconda3/envs/leo-analysis/lib/python3.9/site-packages/statsmodels/tools/_testing.py:19: FutureWarning: pandas.util.testing is deprecated. Use the functions in the public API at pandas.testing instead.\n",
      "  import pandas.util.testing as tm\n"
     ]
    }
   ],
   "source": [
    "import aopy\n",
    "from aopy.data import db\n",
    "import matplotlib.pyplot as plt\n",
    "import seaborn as sns\n",
    "import numpy as np\n",
    "import sys"
   ]
  },
  {
   "cell_type": "code",
   "execution_count": 2,
   "id": "3538e08a",
   "metadata": {
    "ExecuteTime": {
     "end_time": "2024-01-25T21:29:06.460805Z",
     "start_time": "2024-01-25T21:29:06.338320Z"
    },
    "execution": {
     "iopub.execute_input": "2024-12-18T18:17:31.193948Z",
     "iopub.status.busy": "2024-12-18T18:17:31.193489Z",
     "iopub.status.idle": "2024-12-18T18:17:31.343556Z",
     "shell.execute_reply": "2024-12-18T18:17:31.342181Z",
     "shell.execute_reply.started": "2024-12-18T18:17:31.193920Z"
    },
    "tags": []
   },
   "outputs": [
    {
     "name": "stdout",
     "output_type": "stream",
     "text": [
      "\u001b[1m757\u001b[0;0m Hayden on manual control task (pupillab test optitrack)\n",
      "Project: pilot, session: a1\n",
      "Notes: \n",
      "Updating hdf file with metadata for task entry 757\n",
      "/data/human/hdf/hayd20240916_05_te757.hdf\n",
      "processing experiment data...\n",
      "File preproc_2024-09-16_Hayden_757_exp.hdf already preprocessed, doing nothing.\n",
      "\n"
     ]
    }
   ],
   "source": [
    "data_dir = '/data/human'\n",
    "preproc_dir = '/data/preprocessed-human'\n",
    "\n",
    "db.BMI3D_DBNAME = 'human'\n",
    "entries = db.lookup_mc_sessions(id=[757])\n",
    "for e in entries:\n",
    "    print(f\"\\033[1m{e.id}\\033[0;0m {e.subject} on {e.task_name} task ({e.task_desc})\\nProject: {e.project}, session: {e.session}\\nNotes: {e.notes}\")\n",
    "    e.preprocess(data_dir, preproc_dir, exclude_sources=['eye'])\n",
    "    print()"
   ]
  },
  {
   "cell_type": "markdown",
   "id": "41e158a1-30f2-4d55-9344-49922af81f2b",
   "metadata": {},
   "source": [
    "## Tabulate trials"
   ]
  },
  {
   "cell_type": "code",
   "execution_count": 3,
   "id": "e2fd1788",
   "metadata": {
    "ExecuteTime": {
     "end_time": "2024-01-25T21:29:06.467252Z",
     "start_time": "2024-01-25T21:29:06.463285Z"
    },
    "execution": {
     "iopub.execute_input": "2024-12-18T18:17:31.345101Z",
     "iopub.status.busy": "2024-12-18T18:17:31.344840Z",
     "iopub.status.idle": "2024-12-18T18:17:31.350193Z",
     "shell.execute_reply": "2024-12-18T18:17:31.348609Z",
     "shell.execute_reply.started": "2024-12-18T18:17:31.345074Z"
    },
    "tags": []
   },
   "outputs": [],
   "source": [
    "subjects, ids, dates = db.list_entry_details(entries)"
   ]
  },
  {
   "cell_type": "code",
   "execution_count": 4,
   "id": "4fe51513-66a9-49a9-9b78-f3fdc38d5392",
   "metadata": {
    "ExecuteTime": {
     "end_time": "2024-01-25T21:32:54.976066Z",
     "start_time": "2024-01-25T21:32:53.342902Z"
    },
    "execution": {
     "iopub.execute_input": "2024-12-18T18:17:31.351172Z",
     "iopub.status.busy": "2024-12-18T18:17:31.350936Z",
     "iopub.status.idle": "2024-12-18T18:17:31.480340Z",
     "shell.execute_reply": "2024-12-18T18:17:31.479147Z",
     "shell.execute_reply.started": "2024-12-18T18:17:31.351147Z"
    },
    "tags": []
   },
   "outputs": [
    {
     "data": {
      "application/vnd.jupyter.widget-view+json": {
       "model_id": "b11182c199ea443aa4ae5bab79cc4a00",
       "version_major": 2,
       "version_minor": 0
      },
      "text/plain": [
       "  0%|          | 0/1 [00:00<?, ?it/s]"
      ]
     },
     "metadata": {},
     "output_type": "display_data"
    },
    {
     "data": {
      "text/html": [
       "<div>\n",
       "<style scoped>\n",
       "    .dataframe tbody tr th:only-of-type {\n",
       "        vertical-align: middle;\n",
       "    }\n",
       "\n",
       "    .dataframe tbody tr th {\n",
       "        vertical-align: top;\n",
       "    }\n",
       "\n",
       "    .dataframe thead th {\n",
       "        text-align: right;\n",
       "    }\n",
       "</style>\n",
       "<table border=\"1\" class=\"dataframe\">\n",
       "  <thead>\n",
       "    <tr style=\"text-align: right;\">\n",
       "      <th></th>\n",
       "      <th>subject</th>\n",
       "      <th>te_id</th>\n",
       "      <th>date</th>\n",
       "      <th>event_codes</th>\n",
       "      <th>event_times</th>\n",
       "      <th>reward</th>\n",
       "      <th>penalty</th>\n",
       "      <th>target_radius</th>\n",
       "      <th>session</th>\n",
       "      <th>target_idx</th>\n",
       "      <th>...</th>\n",
       "      <th>hold_start_time</th>\n",
       "      <th>hold_completed</th>\n",
       "      <th>delay_start_time</th>\n",
       "      <th>delay_completed</th>\n",
       "      <th>go_cue_time</th>\n",
       "      <th>reach_completed</th>\n",
       "      <th>reach_end_time</th>\n",
       "      <th>reward_start_time</th>\n",
       "      <th>penalty_start_time</th>\n",
       "      <th>penalty_event</th>\n",
       "    </tr>\n",
       "  </thead>\n",
       "  <tbody>\n",
       "    <tr>\n",
       "      <th>0</th>\n",
       "      <td>Hayden</td>\n",
       "      <td>757</td>\n",
       "      <td>2024-09-16</td>\n",
       "      <td>[16, 80, 20, 32, 84, 48, 239]</td>\n",
       "      <td>[0.5072054140000546, 1.615329727000244, 1.8253...</td>\n",
       "      <td>True</td>\n",
       "      <td>False</td>\n",
       "      <td>1.0</td>\n",
       "      <td>a1</td>\n",
       "      <td>4</td>\n",
       "      <td>...</td>\n",
       "      <td>1.615330</td>\n",
       "      <td>True</td>\n",
       "      <td>1.825337</td>\n",
       "      <td>True</td>\n",
       "      <td>1.840799</td>\n",
       "      <td>True</td>\n",
       "      <td>3.203823</td>\n",
       "      <td>3.446179</td>\n",
       "      <td>NaN</td>\n",
       "      <td>NaN</td>\n",
       "    </tr>\n",
       "    <tr>\n",
       "      <th>1</th>\n",
       "      <td>Hayden</td>\n",
       "      <td>757</td>\n",
       "      <td>2024-09-16</td>\n",
       "      <td>[16, 80, 19, 32, 83, 48, 239]</td>\n",
       "      <td>[4.058257474999664, 5.067224960999738, 5.27545...</td>\n",
       "      <td>True</td>\n",
       "      <td>False</td>\n",
       "      <td>1.0</td>\n",
       "      <td>a1</td>\n",
       "      <td>3</td>\n",
       "      <td>...</td>\n",
       "      <td>5.067225</td>\n",
       "      <td>True</td>\n",
       "      <td>5.275457</td>\n",
       "      <td>True</td>\n",
       "      <td>5.291136</td>\n",
       "      <td>True</td>\n",
       "      <td>6.656390</td>\n",
       "      <td>6.899182</td>\n",
       "      <td>NaN</td>\n",
       "      <td>NaN</td>\n",
       "    </tr>\n",
       "    <tr>\n",
       "      <th>2</th>\n",
       "      <td>Hayden</td>\n",
       "      <td>757</td>\n",
       "      <td>2024-09-16</td>\n",
       "      <td>[16, 80, 24, 32, 88, 48, 239]</td>\n",
       "      <td>[7.51270858099997, 8.544314605999716, 8.753769...</td>\n",
       "      <td>True</td>\n",
       "      <td>False</td>\n",
       "      <td>1.0</td>\n",
       "      <td>a1</td>\n",
       "      <td>8</td>\n",
       "      <td>...</td>\n",
       "      <td>8.544315</td>\n",
       "      <td>True</td>\n",
       "      <td>8.753769</td>\n",
       "      <td>True</td>\n",
       "      <td>8.769343</td>\n",
       "      <td>True</td>\n",
       "      <td>9.971993</td>\n",
       "      <td>10.213722</td>\n",
       "      <td>NaN</td>\n",
       "      <td>NaN</td>\n",
       "    </tr>\n",
       "    <tr>\n",
       "      <th>3</th>\n",
       "      <td>Hayden</td>\n",
       "      <td>757</td>\n",
       "      <td>2024-09-16</td>\n",
       "      <td>[16, 80, 17, 32, 81, 48, 239]</td>\n",
       "      <td>[10.838595288999386, 11.835475781999776, 12.04...</td>\n",
       "      <td>True</td>\n",
       "      <td>False</td>\n",
       "      <td>1.0</td>\n",
       "      <td>a1</td>\n",
       "      <td>1</td>\n",
       "      <td>...</td>\n",
       "      <td>11.835476</td>\n",
       "      <td>True</td>\n",
       "      <td>12.045272</td>\n",
       "      <td>True</td>\n",
       "      <td>12.061836</td>\n",
       "      <td>True</td>\n",
       "      <td>13.342592</td>\n",
       "      <td>13.583723</td>\n",
       "      <td>NaN</td>\n",
       "      <td>NaN</td>\n",
       "    </tr>\n",
       "    <tr>\n",
       "      <th>4</th>\n",
       "      <td>Hayden</td>\n",
       "      <td>757</td>\n",
       "      <td>2024-09-16</td>\n",
       "      <td>[16, 80, 23, 32, 87, 48, 239]</td>\n",
       "      <td>[14.21119772899965, 15.251263594000193, 15.460...</td>\n",
       "      <td>True</td>\n",
       "      <td>False</td>\n",
       "      <td>1.0</td>\n",
       "      <td>a1</td>\n",
       "      <td>7</td>\n",
       "      <td>...</td>\n",
       "      <td>15.251264</td>\n",
       "      <td>True</td>\n",
       "      <td>15.460028</td>\n",
       "      <td>True</td>\n",
       "      <td>15.476345</td>\n",
       "      <td>True</td>\n",
       "      <td>17.085509</td>\n",
       "      <td>17.326300</td>\n",
       "      <td>NaN</td>\n",
       "      <td>NaN</td>\n",
       "    </tr>\n",
       "  </tbody>\n",
       "</table>\n",
       "<p>5 rows × 25 columns</p>\n",
       "</div>"
      ],
      "text/plain": [
       "  subject  te_id        date                    event_codes  \\\n",
       "0  Hayden    757  2024-09-16  [16, 80, 20, 32, 84, 48, 239]   \n",
       "1  Hayden    757  2024-09-16  [16, 80, 19, 32, 83, 48, 239]   \n",
       "2  Hayden    757  2024-09-16  [16, 80, 24, 32, 88, 48, 239]   \n",
       "3  Hayden    757  2024-09-16  [16, 80, 17, 32, 81, 48, 239]   \n",
       "4  Hayden    757  2024-09-16  [16, 80, 23, 32, 87, 48, 239]   \n",
       "\n",
       "                                         event_times  reward  penalty  \\\n",
       "0  [0.5072054140000546, 1.615329727000244, 1.8253...    True    False   \n",
       "1  [4.058257474999664, 5.067224960999738, 5.27545...    True    False   \n",
       "2  [7.51270858099997, 8.544314605999716, 8.753769...    True    False   \n",
       "3  [10.838595288999386, 11.835475781999776, 12.04...    True    False   \n",
       "4  [14.21119772899965, 15.251263594000193, 15.460...    True    False   \n",
       "\n",
       "   target_radius session  target_idx  ... hold_start_time  hold_completed  \\\n",
       "0            1.0      a1           4  ...        1.615330            True   \n",
       "1            1.0      a1           3  ...        5.067225            True   \n",
       "2            1.0      a1           8  ...        8.544315            True   \n",
       "3            1.0      a1           1  ...       11.835476            True   \n",
       "4            1.0      a1           7  ...       15.251264            True   \n",
       "\n",
       "   delay_start_time  delay_completed  go_cue_time  reach_completed  \\\n",
       "0          1.825337             True     1.840799             True   \n",
       "1          5.275457             True     5.291136             True   \n",
       "2          8.753769             True     8.769343             True   \n",
       "3         12.045272             True    12.061836             True   \n",
       "4         15.460028             True    15.476345             True   \n",
       "\n",
       "   reach_end_time  reward_start_time  penalty_start_time  penalty_event  \n",
       "0        3.203823           3.446179                 NaN            NaN  \n",
       "1        6.656390           6.899182                 NaN            NaN  \n",
       "2        9.971993          10.213722                 NaN            NaN  \n",
       "3       13.342592          13.583723                 NaN            NaN  \n",
       "4       17.085509          17.326300                 NaN            NaN  \n",
       "\n",
       "[5 rows x 25 columns]"
      ]
     },
     "metadata": {},
     "output_type": "display_data"
    }
   ],
   "source": [
    "df = aopy.data.tabulate_behavior_data_center_out(preproc_dir, subjects, ids, dates, \n",
    "                                                 metadata=['target_radius', 'session'])\n",
    "display(df[:5])"
   ]
  },
  {
   "cell_type": "code",
   "execution_count": 5,
   "id": "4cf1defc-5fa0-4524-83c6-6499ced249d9",
   "metadata": {
    "ExecuteTime": {
     "end_time": "2024-01-25T21:32:56.696817Z",
     "start_time": "2024-01-25T21:32:56.650527Z"
    },
    "execution": {
     "iopub.execute_input": "2024-12-18T18:17:31.481219Z",
     "iopub.status.busy": "2024-12-18T18:17:31.481002Z",
     "iopub.status.idle": "2024-12-18T18:17:31.506550Z",
     "shell.execute_reply": "2024-12-18T18:17:31.505023Z",
     "shell.execute_reply.started": "2024-12-18T18:17:31.481197Z"
    },
    "tags": []
   },
   "outputs": [
    {
     "data": {
      "text/html": [
       "<div>\n",
       "<style scoped>\n",
       "    .dataframe tbody tr th:only-of-type {\n",
       "        vertical-align: middle;\n",
       "    }\n",
       "\n",
       "    .dataframe tbody tr th {\n",
       "        vertical-align: top;\n",
       "    }\n",
       "\n",
       "    .dataframe thead th {\n",
       "        text-align: right;\n",
       "    }\n",
       "</style>\n",
       "<table border=\"1\" class=\"dataframe\">\n",
       "  <thead>\n",
       "    <tr style=\"text-align: right;\">\n",
       "      <th></th>\n",
       "      <th>index</th>\n",
       "      <th>subject</th>\n",
       "      <th>te_id</th>\n",
       "      <th>date</th>\n",
       "      <th>event_codes</th>\n",
       "      <th>event_times</th>\n",
       "      <th>reward</th>\n",
       "      <th>penalty</th>\n",
       "      <th>target_radius</th>\n",
       "      <th>session</th>\n",
       "      <th>...</th>\n",
       "      <th>hold_start_time</th>\n",
       "      <th>hold_completed</th>\n",
       "      <th>delay_start_time</th>\n",
       "      <th>delay_completed</th>\n",
       "      <th>go_cue_time</th>\n",
       "      <th>reach_completed</th>\n",
       "      <th>reach_end_time</th>\n",
       "      <th>reward_start_time</th>\n",
       "      <th>penalty_start_time</th>\n",
       "      <th>penalty_event</th>\n",
       "    </tr>\n",
       "  </thead>\n",
       "  <tbody>\n",
       "    <tr>\n",
       "      <th>0</th>\n",
       "      <td>0</td>\n",
       "      <td>Hayden</td>\n",
       "      <td>757</td>\n",
       "      <td>2024-09-16</td>\n",
       "      <td>[16, 80, 20, 32, 84, 48, 239]</td>\n",
       "      <td>[0.5072054140000546, 1.615329727000244, 1.8253...</td>\n",
       "      <td>True</td>\n",
       "      <td>False</td>\n",
       "      <td>1.0</td>\n",
       "      <td>a1</td>\n",
       "      <td>...</td>\n",
       "      <td>1.615330</td>\n",
       "      <td>True</td>\n",
       "      <td>1.825337</td>\n",
       "      <td>True</td>\n",
       "      <td>1.840799</td>\n",
       "      <td>True</td>\n",
       "      <td>3.203823</td>\n",
       "      <td>3.446179</td>\n",
       "      <td>NaN</td>\n",
       "      <td>NaN</td>\n",
       "    </tr>\n",
       "    <tr>\n",
       "      <th>1</th>\n",
       "      <td>1</td>\n",
       "      <td>Hayden</td>\n",
       "      <td>757</td>\n",
       "      <td>2024-09-16</td>\n",
       "      <td>[16, 80, 19, 32, 83, 48, 239]</td>\n",
       "      <td>[4.058257474999664, 5.067224960999738, 5.27545...</td>\n",
       "      <td>True</td>\n",
       "      <td>False</td>\n",
       "      <td>1.0</td>\n",
       "      <td>a1</td>\n",
       "      <td>...</td>\n",
       "      <td>5.067225</td>\n",
       "      <td>True</td>\n",
       "      <td>5.275457</td>\n",
       "      <td>True</td>\n",
       "      <td>5.291136</td>\n",
       "      <td>True</td>\n",
       "      <td>6.656390</td>\n",
       "      <td>6.899182</td>\n",
       "      <td>NaN</td>\n",
       "      <td>NaN</td>\n",
       "    </tr>\n",
       "    <tr>\n",
       "      <th>2</th>\n",
       "      <td>2</td>\n",
       "      <td>Hayden</td>\n",
       "      <td>757</td>\n",
       "      <td>2024-09-16</td>\n",
       "      <td>[16, 80, 24, 32, 88, 48, 239]</td>\n",
       "      <td>[7.51270858099997, 8.544314605999716, 8.753769...</td>\n",
       "      <td>True</td>\n",
       "      <td>False</td>\n",
       "      <td>1.0</td>\n",
       "      <td>a1</td>\n",
       "      <td>...</td>\n",
       "      <td>8.544315</td>\n",
       "      <td>True</td>\n",
       "      <td>8.753769</td>\n",
       "      <td>True</td>\n",
       "      <td>8.769343</td>\n",
       "      <td>True</td>\n",
       "      <td>9.971993</td>\n",
       "      <td>10.213722</td>\n",
       "      <td>NaN</td>\n",
       "      <td>NaN</td>\n",
       "    </tr>\n",
       "    <tr>\n",
       "      <th>3</th>\n",
       "      <td>3</td>\n",
       "      <td>Hayden</td>\n",
       "      <td>757</td>\n",
       "      <td>2024-09-16</td>\n",
       "      <td>[16, 80, 17, 32, 81, 48, 239]</td>\n",
       "      <td>[10.838595288999386, 11.835475781999776, 12.04...</td>\n",
       "      <td>True</td>\n",
       "      <td>False</td>\n",
       "      <td>1.0</td>\n",
       "      <td>a1</td>\n",
       "      <td>...</td>\n",
       "      <td>11.835476</td>\n",
       "      <td>True</td>\n",
       "      <td>12.045272</td>\n",
       "      <td>True</td>\n",
       "      <td>12.061836</td>\n",
       "      <td>True</td>\n",
       "      <td>13.342592</td>\n",
       "      <td>13.583723</td>\n",
       "      <td>NaN</td>\n",
       "      <td>NaN</td>\n",
       "    </tr>\n",
       "    <tr>\n",
       "      <th>4</th>\n",
       "      <td>4</td>\n",
       "      <td>Hayden</td>\n",
       "      <td>757</td>\n",
       "      <td>2024-09-16</td>\n",
       "      <td>[16, 80, 23, 32, 87, 48, 239]</td>\n",
       "      <td>[14.21119772899965, 15.251263594000193, 15.460...</td>\n",
       "      <td>True</td>\n",
       "      <td>False</td>\n",
       "      <td>1.0</td>\n",
       "      <td>a1</td>\n",
       "      <td>...</td>\n",
       "      <td>15.251264</td>\n",
       "      <td>True</td>\n",
       "      <td>15.460028</td>\n",
       "      <td>True</td>\n",
       "      <td>15.476345</td>\n",
       "      <td>True</td>\n",
       "      <td>17.085509</td>\n",
       "      <td>17.326300</td>\n",
       "      <td>NaN</td>\n",
       "      <td>NaN</td>\n",
       "    </tr>\n",
       "  </tbody>\n",
       "</table>\n",
       "<p>5 rows × 26 columns</p>\n",
       "</div>"
      ],
      "text/plain": [
       "   index subject  te_id        date                    event_codes  \\\n",
       "0      0  Hayden    757  2024-09-16  [16, 80, 20, 32, 84, 48, 239]   \n",
       "1      1  Hayden    757  2024-09-16  [16, 80, 19, 32, 83, 48, 239]   \n",
       "2      2  Hayden    757  2024-09-16  [16, 80, 24, 32, 88, 48, 239]   \n",
       "3      3  Hayden    757  2024-09-16  [16, 80, 17, 32, 81, 48, 239]   \n",
       "4      4  Hayden    757  2024-09-16  [16, 80, 23, 32, 87, 48, 239]   \n",
       "\n",
       "                                         event_times  reward  penalty  \\\n",
       "0  [0.5072054140000546, 1.615329727000244, 1.8253...    True    False   \n",
       "1  [4.058257474999664, 5.067224960999738, 5.27545...    True    False   \n",
       "2  [7.51270858099997, 8.544314605999716, 8.753769...    True    False   \n",
       "3  [10.838595288999386, 11.835475781999776, 12.04...    True    False   \n",
       "4  [14.21119772899965, 15.251263594000193, 15.460...    True    False   \n",
       "\n",
       "   target_radius session  ...  hold_start_time hold_completed  \\\n",
       "0            1.0      a1  ...         1.615330           True   \n",
       "1            1.0      a1  ...         5.067225           True   \n",
       "2            1.0      a1  ...         8.544315           True   \n",
       "3            1.0      a1  ...        11.835476           True   \n",
       "4            1.0      a1  ...        15.251264           True   \n",
       "\n",
       "   delay_start_time  delay_completed  go_cue_time  reach_completed  \\\n",
       "0          1.825337             True     1.840799             True   \n",
       "1          5.275457             True     5.291136             True   \n",
       "2          8.753769             True     8.769343             True   \n",
       "3         12.045272             True    12.061836             True   \n",
       "4         15.460028             True    15.476345             True   \n",
       "\n",
       "   reach_end_time  reward_start_time  penalty_start_time  penalty_event  \n",
       "0        3.203823           3.446179                 NaN            NaN  \n",
       "1        6.656390           6.899182                 NaN            NaN  \n",
       "2        9.971993          10.213722                 NaN            NaN  \n",
       "3       13.342592          13.583723                 NaN            NaN  \n",
       "4       17.085509          17.326300                 NaN            NaN  \n",
       "\n",
       "[5 rows x 26 columns]"
      ]
     },
     "metadata": {},
     "output_type": "display_data"
    }
   ],
   "source": [
    "# Choose the data you're interested in\n",
    "df_subset = df[df['reach_completed']].reset_index()\n",
    "display(df_subset[:5])"
   ]
  },
  {
   "cell_type": "markdown",
   "id": "ac3b5ca3-8452-4225-a23c-26d0a36d3e9a",
   "metadata": {},
   "source": [
    "## Load cursor and eye kinematics"
   ]
  },
  {
   "cell_type": "code",
   "execution_count": 6,
   "id": "1e1e310b-bd75-4049-ac31-08e8467ae4de",
   "metadata": {
    "ExecuteTime": {
     "end_time": "2024-01-25T21:33:01.888676Z",
     "start_time": "2024-01-25T21:32:57.729232Z"
    },
    "execution": {
     "iopub.execute_input": "2024-12-18T18:17:31.508934Z",
     "iopub.status.busy": "2024-12-18T18:17:31.508692Z",
     "iopub.status.idle": "2024-12-18T18:17:31.655442Z",
     "shell.execute_reply": "2024-12-18T18:17:31.654215Z",
     "shell.execute_reply.started": "2024-12-18T18:17:31.508912Z"
    },
    "tags": []
   },
   "outputs": [
    {
     "data": {
      "image/png": "[encoded data removed]",
      "text/plain": [
       "<Figure size 432x288 with 1 Axes>"
      ]
     },
     "metadata": {
      "needs_background": "light"
     },
     "output_type": "display_data"
    }
   ],
   "source": [
    "# Can also choose the data segments\n",
    "# Load the reach segments from go cue until peripheral target entry\n",
    "plt.figure()\n",
    "kin_segments = aopy.data.bmi3d.tabulate_kinematic_data(\n",
    "    preproc_dir, df_subset['subject'], df_subset['te_id'], df_subset['date'], \n",
    "    df_subset['hold_start_time'], df_subset['reach_end_time'], datatype='cursor', samplerate=60\n",
    ")\n",
    "target_idx = df_subset['target_idx'].to_numpy()\n",
    "aopy.visualization.color_trajectories(kin_segments[:16], target_idx[:16], sns.color_palette(n_colors=9), bounds=(-12,12,-12,12))\n",
    "aopy.visualization.color_targets(df_subset['target_location'], df_subset['target_idx'], sns.color_palette(n_colors=9), df_subset['target_radius'][0])\n",
    "plt.title('Cursor kinematics')\n",
    "plt.show()"
   ]
  },
  {
   "cell_type": "code",
   "execution_count": 7,
   "id": "8ef7fd68-1d91-4ebd-96b8-b61e92211176",
   "metadata": {
    "ExecuteTime": {
     "end_time": "2024-01-25T21:33:02.039528Z",
     "start_time": "2024-01-25T21:33:01.050Z"
    },
    "execution": {
     "iopub.execute_input": "2024-12-18T18:17:31.656644Z",
     "iopub.status.busy": "2024-12-18T18:17:31.656411Z",
     "iopub.status.idle": "2024-12-18T18:17:31.834808Z",
     "shell.execute_reply": "2024-12-18T18:17:31.833483Z",
     "shell.execute_reply.started": "2024-12-18T18:17:31.656622Z"
    },
    "tags": []
   },
   "outputs": [
    {
     "name": "stderr",
     "output_type": "stream",
     "text": [
      "/home/aolab/leo/analyze/aopy/precondition/base.py:739: RuntimeWarning: Mean of empty slice\n",
      "  downsampled[:, idx] = np.nanmean(data_padded[:, idx].reshape(-1, downsample_factor), axis=1)\n"
     ]
    },
    {
     "data": {
      "image/png": "[encoded data removed]",
      "text/plain": [
       "<Figure size 432x288 with 1 Axes>"
      ]
     },
     "metadata": {
      "needs_background": "light"
     },
     "output_type": "display_data"
    }
   ],
   "source": [
    "# Load raw eye kinematics\n",
    "eye_segments, samplerate = aopy.data.bmi3d.tabulate_task_data(\n",
    "        preproc_dir, df_subset['subject'], df_subset['te_id'], df_subset['date'], \n",
    "    df_subset['hold_start_time'], df_subset['reach_end_time'], datatype='eye', remove_nan=False\n",
    ")\n",
    "left_eye_segments = [seg[:,:2] for seg in eye_segments]\n",
    "aopy.visualization.color_trajectories(left_eye_segments[:100], target_idx[:100], sns.color_palette(n_colors=9), bounds=(0,1,0,1))\n",
    "aopy.visualization.color_targets(df_subset['target_location'], df_subset['target_idx'], sns.color_palette(n_colors=9), df_subset['target_radius'][0])\n",
    "plt.title('Eye kinematics')\n",
    "plt.show()"
   ]
  },
  {
   "cell_type": "markdown",
   "id": "95c02735-2e88-4b25-b13f-ec6f5bb6c83a",
   "metadata": {},
   "source": [
    "## Calibrate"
   ]
  },
  {
   "cell_type": "code",
   "execution_count": 8,
   "id": "24bd8eb7-6667-4a4b-9fd2-7801e1b90aa7",
   "metadata": {
    "execution": {
     "iopub.execute_input": "2024-12-18T18:17:31.835885Z",
     "iopub.status.busy": "2024-12-18T18:17:31.835650Z",
     "iopub.status.idle": "2024-12-18T18:17:31.842052Z",
     "shell.execute_reply": "2024-12-18T18:17:31.840465Z",
     "shell.execute_reply.started": "2024-12-18T18:17:31.835861Z"
    },
    "tags": []
   },
   "outputs": [],
   "source": [
    "# Get calibration timepoints\n",
    "n_train = 12\n",
    "cursor_data_samples = np.array([seg[-1] for seg in kin_segments[:n_train+1]])\n",
    "eye_data_samples = np.array([seg[-1,:2] for seg in eye_segments[:n_train+1]])"
   ]
  },
  {
   "cell_type": "code",
   "execution_count": 9,
   "id": "b89aaf65-7683-415d-b190-a85dca808e58",
   "metadata": {
    "execution": {
     "iopub.execute_input": "2024-12-18T18:17:31.843019Z",
     "iopub.status.busy": "2024-12-18T18:17:31.842796Z",
     "iopub.status.idle": "2024-12-18T18:17:31.850083Z",
     "shell.execute_reply": "2024-12-18T18:17:31.848478Z",
     "shell.execute_reply.started": "2024-12-18T18:17:31.842997Z"
    },
    "tags": []
   },
   "outputs": [],
   "source": [
    "# Calibrate the eye data\n",
    "if eye_data_samples.shape[1] == 4:\n",
    "    cursor_data_samples = np.tile(cursor_data_samples, (1, 2)) # for two eyes\n",
    "slopes, intercepts, correlation_coeff = aopy.analysis.fit_linear_regression(eye_data_samples, cursor_data_samples)\n",
    "coeff = np.vstack((slopes, intercepts)).T"
   ]
  },
  {
   "cell_type": "code",
   "execution_count": 10,
   "id": "e4f9c8d9-5521-4f94-bd78-730c49db1d44",
   "metadata": {
    "execution": {
     "iopub.execute_input": "2024-12-18T18:17:31.851013Z",
     "iopub.status.busy": "2024-12-18T18:17:31.850793Z",
     "iopub.status.idle": "2024-12-18T18:17:31.857259Z",
     "shell.execute_reply": "2024-12-18T18:17:31.855981Z",
     "shell.execute_reply.started": "2024-12-18T18:17:31.850992Z"
    },
    "tags": []
   },
   "outputs": [
    {
     "name": "stdout",
     "output_type": "stream",
     "text": [
      "[[ 54.76994245 -26.87266468]\n",
      " [ 27.91895307 -10.813797  ]]\n"
     ]
    }
   ],
   "source": [
    "print(coeff)"
   ]
  },
  {
   "cell_type": "code",
   "execution_count": 11,
   "id": "6df87d90-d2bc-4c22-91e3-21812e036b0e",
   "metadata": {
    "execution": {
     "iopub.execute_input": "2024-12-18T18:17:31.858196Z",
     "iopub.status.busy": "2024-12-18T18:17:31.857974Z",
     "iopub.status.idle": "2024-12-18T18:17:32.422764Z",
     "shell.execute_reply": "2024-12-18T18:17:32.421490Z",
     "shell.execute_reply.started": "2024-12-18T18:17:31.858175Z"
    },
    "tags": []
   },
   "outputs": [
    {
     "data": {
      "image/png": "[encoded data removed]",
      "text/plain": [
       "<Figure size 432x216 with 2 Axes>"
      ]
     },
     "metadata": {
      "needs_background": "light"
     },
     "output_type": "display_data"
    }
   ],
   "source": [
    "estimated_calibration_pos = aopy.postproc.get_calibrated_eye_data(eye_data_samples, coeff)\n",
    "fig, ax = plt.subplots(1,2, figsize=(6,3))\n",
    "for i in range(2):\n",
    "    eye_label = ['lex', 'ley', 'rex', 'rey'][i]#eye_metadata['labels'][i].decode('utf-8')\n",
    "    cursor_label = ['cursor_x', 'cursor_y'][i % 2]\n",
    "\n",
    "    ax[i].set_title(f'{eye_label} vs. {cursor_label}')\n",
    "    ax[i].scatter(eye_data_samples[:,i], cursor_data_samples[:,i])\n",
    "    ax[i].plot(eye_data_samples[:,i], estimated_calibration_pos[:,i], 'g')\n",
    "    ax[i].set_xlabel(f\"Raw eye tracking voltage (V) \\n $y = {coeff[i,0]:.4f} *eye signal - {coeff[i,1]:.4f}$ \\n $R^2 = {correlation_coeff[i]**2:.4f}$ \")\n",
    "    ax[i].set_ylabel('Cursor coor. (cm)')\n",
    "#         ax[i].set(adjustable='box-forced', aspect='equal')\n",
    "\n",
    "plt.tight_layout()\n"
   ]
  },
  {
   "cell_type": "markdown",
   "id": "8ff999cf-4bf2-4301-930a-2c9db3aabdb8",
   "metadata": {},
   "source": [
    "## Validate calibration"
   ]
  },
  {
   "cell_type": "code",
   "execution_count": 12,
   "id": "c0b1d9f1-17bf-4938-84ea-c060f366c256",
   "metadata": {
    "execution": {
     "iopub.execute_input": "2024-12-18T18:17:32.424140Z",
     "iopub.status.busy": "2024-12-18T18:17:32.423891Z",
     "iopub.status.idle": "2024-12-18T18:17:32.741315Z",
     "shell.execute_reply": "2024-12-18T18:17:32.739671Z",
     "shell.execute_reply.started": "2024-12-18T18:17:32.424103Z"
    },
    "tags": []
   },
   "outputs": [
    {
     "name": "stdout",
     "output_type": "stream",
     "text": [
      "(15, 2)\n"
     ]
    },
    {
     "data": {
      "image/png": "[encoded data removed]",
      "text/plain": [
       "<Figure size 432x216 with 2 Axes>"
      ]
     },
     "metadata": {
      "needs_background": "light"
     },
     "output_type": "display_data"
    }
   ],
   "source": [
    "# Test\n",
    "cursor_data_samples = np.array([seg[-1] for seg in kin_segments[n_train:]])\n",
    "eye_data_samples = np.array([seg[-1,:2] for seg in eye_segments[n_train:]])\n",
    "print(eye_data_samples.shape)\n",
    "if eye_data_samples.shape[1] == 4:\n",
    "    cursor_data_samples = np.tile(cursor_data_samples, (1, 2)) # for two eyes\n",
    "\n",
    "estimated_calibration_pos = aopy.postproc.get_calibrated_eye_data(eye_data_samples, coeff)\n",
    "fig, ax = plt.subplots(1,2, figsize=(6,3))\n",
    "for i in range(2):\n",
    "    eye_label = ['lex', 'ley', 'rex', 'rey'][i]#eye_metadata['labels'][i].decode('utf-8')\n",
    "    cursor_label = ['cursor_x', 'cursor_y'][i % 2]\n",
    "\n",
    "    ax[i].set_title(f'{eye_label} vs. {cursor_label}')\n",
    "    ax[i].scatter(eye_data_samples[:,i], cursor_data_samples[:,i])\n",
    "    ax[i].plot(eye_data_samples[:,i], estimated_calibration_pos[:,i], 'g')\n",
    "    \n",
    "    ss_res = np.sum((cursor_data_samples[:,i] - estimated_calibration_pos[:,i]) ** 2)\n",
    "    ss_tot = np.sum((cursor_data_samples[:,i] - np.mean(cursor_data_samples[:,i])) ** 2)\n",
    "    r2 = 1 - (ss_res / ss_tot)\n",
    "\n",
    "    ax[i].set_xlabel(f\"Raw eye tracking voltage (V) \\n $R^2 = {r2:.4f}$ \")\n",
    "    ax[i].set_ylabel('Cursor coor. (cm)')\n",
    "#         ax[i].set(adjustable='box-forced', aspect='equal')\n",
    "\n",
    "plt.tight_layout()"
   ]
  },
  {
   "cell_type": "code",
   "execution_count": 13,
   "id": "3973a56c-a917-4114-8dc1-47693cd272b9",
   "metadata": {
    "execution": {
     "iopub.execute_input": "2024-12-18T18:17:32.742734Z",
     "iopub.status.busy": "2024-12-18T18:17:32.742493Z",
     "iopub.status.idle": "2024-12-18T18:17:32.989549Z",
     "shell.execute_reply": "2024-12-18T18:17:32.988250Z",
     "shell.execute_reply.started": "2024-12-18T18:17:32.742709Z"
    },
    "tags": []
   },
   "outputs": [
    {
     "data": {
      "text/plain": [
       "Text(0.5, 1.0, 'Left eye')"
      ]
     },
     "execution_count": 13,
     "metadata": {},
     "output_type": "execute_result"
    },
    {
     "data": {
      "image/png": "[encoded data removed]",
      "text/plain": [
       "<Figure size 360x360 with 1 Axes>"
      ]
     },
     "metadata": {
      "needs_background": "light"
     },
     "output_type": "display_data"
    }
   ],
   "source": [
    "# Load calibrated eye kinematics\n",
    "def calib(eye, samplerate):\n",
    "    eye, samplerate = aopy.precondition.filter_eye(eye, samplerate, low_cut=59)\n",
    "    eye = aopy.postproc.get_calibrated_eye_data(eye[:,:2], coeff)\n",
    "    return eye, samplerate\n",
    "eye_segments_calib, samplerate = aopy.data.bmi3d.tabulate_task_data(\n",
    "        preproc_dir, df_subset['subject'], df_subset['te_id'], df_subset['date'], \n",
    "    df_subset['hold_start_time'], df_subset['reach_end_time'], datatype='eye', samplerate=120, preproc=calib\n",
    ")\n",
    "\n",
    "left_eye_segments = [seg[:,:2] for seg in eye_segments_calib]\n",
    "plt.figure(figsize=(5,5))\n",
    "aopy.visualization.color_trajectories(left_eye_segments[:16], target_idx[:16], sns.color_palette(n_colors=9), bounds=(-10,10,-10,10))\n",
    "aopy.visualization.color_targets(df_subset['target_location'], df_subset['target_idx'], sns.color_palette(n_colors=9), df_subset['target_radius'][0])\n",
    "plt.title('Left eye')\n"
   ]
  },
  {
   "cell_type": "code",
   "execution_count": null,
   "id": "ec1e8faf-b171-49eb-bd0d-edeede82f868",
   "metadata": {},
   "outputs": [],
   "source": []
  }
 ],
 "metadata": {
  "hide_input": false,
  "kernelspec": {
   "display_name": "Python [conda env:leo-analysis]",
   "language": "python",
   "name": "conda-env-leo-analysis-py"
  },
  "language_info": {
   "codemirror_mode": {
    "name": "ipython",
    "version": 3
   },
   "file_extension": ".py",
   "mimetype": "text/x-python",
   "name": "python",
   "nbconvert_exporter": "python",
   "pygments_lexer": "ipython3",
   "version": "3.9.13"
  },
  "toc": {
   "base_numbering": 1,
   "nav_menu": {},
   "number_sections": true,
   "sideBar": true,
   "skip_h1_title": false,
   "title_cell": "Table of Contents",
   "title_sidebar": "Contents",
   "toc_cell": false,
   "toc_position": {},
   "toc_section_display": true,
   "toc_window_display": false
  },
  "varInspector": {
   "cols": {
    "lenName": 16,
    "lenType": 16,
    "lenVar": 40
   },
   "kernels_config": {
    "python": {
     "delete_cmd_postfix": "",
     "delete_cmd_prefix": "del ",
     "library": "var_list.py",
     "varRefreshCmd": "print(var_dic_list())"
    },
    "r": {
     "delete_cmd_postfix": ") ",
     "delete_cmd_prefix": "rm(",
     "library": "var_list.r",
     "varRefreshCmd": "cat(var_dic_list()) "
    }
   },
   "types_to_exclude": [
    "module",
    "function",
    "builtin_function_or_method",
    "instance",
    "_Feature"
   ],
   "window_display": false
  }
 },
 "nbformat": 4,
 "nbformat_minor": 5
}

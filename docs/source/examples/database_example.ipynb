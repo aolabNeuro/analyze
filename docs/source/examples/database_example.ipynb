{
 "cells": [
  {
   "cell_type": "markdown",
   "metadata": {
    "id": "DeudRk4Y1sJJ"
   },
   "source": [
    "# Database Example  "
   ]
  },
  {
   "cell_type": "code",
   "execution_count": 1,
   "metadata": {
    "ExecuteTime": {
     "end_time": "2023-07-17T19:52:35.434872Z",
     "start_time": "2023-07-17T19:52:33.950791Z"
    },
    "colab": {
     "base_uri": "https://localhost:8080/",
     "height": 350
    },
    "executionInfo": {
     "elapsed": 420,
     "status": "error",
     "timestamp": 1615494076728,
     "user": {
      "displayName": "Leo Scholl",
      "photoUrl": "",
      "userId": "08377480612982390884"
     },
     "user_tz": 480
    },
    "id": "8CzeKK8Hg-bI",
    "outputId": "c5c454f6-5cf0-4f77-c822-1602cd207ed8"
   },
   "outputs": [],
   "source": [
    "# Import libraries\n",
    "import aopy\n",
    "from aopy.data import db\n",
    "from ipywidgets import interactive, widgets\n",
    "from datetime import date, datetime, timedelta\n",
    "import re\n",
    "from tqdm.notebook import tqdm\n",
    "import numpy as np"
   ]
  },
  {
   "cell_type": "code",
   "execution_count": 2,
   "metadata": {
    "ExecuteTime": {
     "end_time": "2023-07-17T19:52:35.505436Z",
     "start_time": "2023-07-17T19:52:35.500179Z"
    }
   },
   "outputs": [],
   "source": [
    "# set up constants\n",
    "preproc_dir = '/data/preprocessed'"
   ]
  },
  {
   "cell_type": "markdown",
   "metadata": {},
   "source": [
    "## Finding a single recording"
   ]
  },
  {
   "cell_type": "code",
   "execution_count": 3,
   "metadata": {
    "ExecuteTime": {
     "end_time": "2023-07-17T19:52:37.746216Z",
     "start_time": "2023-07-17T19:52:37.683471Z"
    }
   },
   "outputs": [
    {
     "name": "stdout",
     "output_type": "stream",
     "text": [
      "2022-06-11 09:55:10.450163: beignet on manual control task, id=5624\n",
      "baseline flash\n"
     ]
    }
   ],
   "source": [
    "subject = 'beignet'\n",
    "task = 'manual control'\n",
    "project = 'baseline flash'\n",
    "day = date(2022, 6, 11) # June 11, 2022\n",
    "\n",
    "sessions = db.lookup_sessions(subject=subject, task_name=task, date=day, project=project)\n",
    "e = sessions[-1]\n",
    "print(e)\n",
    "print(e.project)"
   ]
  },
  {
   "cell_type": "code",
   "execution_count": 4,
   "metadata": {
    "ExecuteTime": {
     "end_time": "2023-07-17T19:52:39.155712Z",
     "start_time": "2023-07-17T19:52:38.916720Z"
    }
   },
   "outputs": [
    {
     "name": "stdout",
     "output_type": "stream",
     "text": [
      "119 sessions found with ecog data\n"
     ]
    }
   ],
   "source": [
    "# Filter on recordings with neural data\n",
    "filter_fn = db.filter_has_neural_data('ecog')\n",
    "sessions = db.lookup_sessions(subject='affi', task_desc='resting data', experimenter='leo', filter_fn=filter_fn)\n",
    "print(f\"{len(sessions)} sessions found with ecog data\")"
   ]
  },
  {
   "cell_type": "code",
   "execution_count": 5,
   "metadata": {
    "ExecuteTime": {
     "end_time": "2023-07-17T19:52:42.363253Z",
     "start_time": "2023-07-17T19:52:39.855627Z"
    }
   },
   "outputs": [
    {
     "name": "stdout",
     "output_type": "stream",
     "text": [
      "78 sessions found with 250ms rewards\n"
     ]
    }
   ],
   "source": [
    "# Filter specific parameters\n",
    "filter_fn = lambda x: x.get_task_param('reward_time') == 0.25\n",
    "sessions = db.lookup_sessions(subject='affi', filter_fn=filter_fn)\n",
    "print(f\"{len(sessions)} sessions found with 250ms rewards\")"
   ]
  },
  {
   "cell_type": "code",
   "execution_count": 6,
   "metadata": {
    "ExecuteTime": {
     "end_time": "2023-07-17T19:52:42.831884Z",
     "start_time": "2023-07-17T19:52:42.781519Z"
    },
    "scrolled": true
   },
   "outputs": [
    {
     "name": "stdout",
     "output_type": "stream",
     "text": [
      "('beignet', 'beignet', 'beignet', 'beignet') ('9609', '9631', '9638', '9667') ('2023-06-05', '2023-06-06', '2023-06-08', '2023-06-09')\n"
     ]
    }
   ],
   "source": [
    "# Or use a shortcut\n",
    "sessions = db.lookup_mc_sessions(subject=subject, date=('2023-06-05', '2023-06-10'))\n",
    "subjects, ids, dates = db.list_entry_details(sessions)\n",
    "print(subjects, ids, dates)"
   ]
  },
  {
   "cell_type": "markdown",
   "metadata": {},
   "source": [
    "## Finding a range of dates"
   ]
  },
  {
   "cell_type": "code",
   "execution_count": 7,
   "metadata": {
    "ExecuteTime": {
     "end_time": "2023-07-17T19:52:44.496258Z",
     "start_time": "2023-07-17T19:52:44.470187Z"
    }
   },
   "outputs": [
    {
     "data": {
      "application/vnd.jupyter.widget-view+json": {
       "model_id": "5553551938644d9da023f95e4459119e",
       "version_major": 2,
       "version_minor": 0
      },
      "text/plain": [
       "DatePicker(value=None, description='Start date', step=1)"
      ]
     },
     "metadata": {},
     "output_type": "display_data"
    },
    {
     "data": {
      "application/vnd.jupyter.widget-view+json": {
       "model_id": "386a2d3dd486464685390d5d0e73f622",
       "version_major": 2,
       "version_minor": 0
      },
      "text/plain": [
       "DatePicker(value=None, description='End date', step=1)"
      ]
     },
     "metadata": {},
     "output_type": "display_data"
    }
   ],
   "source": [
    "start = widgets.DatePicker(\n",
    "    description='Start date',\n",
    "    disabled=False\n",
    ")\n",
    "end = widgets.DatePicker(\n",
    "    description='End date',\n",
    "    disabled=False\n",
    ")\n",
    "display(start)\n",
    "display(end)"
   ]
  },
  {
   "cell_type": "code",
   "execution_count": 8,
   "metadata": {
    "ExecuteTime": {
     "end_time": "2023-07-17T19:53:01.858299Z",
     "start_time": "2023-07-17T19:53:01.745774Z"
    },
    "scrolled": true
   },
   "outputs": [
    {
     "name": "stdout",
     "output_type": "stream",
     "text": [
      "53 matching recordings\n"
     ]
    }
   ],
   "source": [
    "# Might want to do some additional filtering by date\n",
    "subject = 'beignet'\n",
    "task = 'bmi control'\n",
    "project = 'linear map'\n",
    "entries = db.lookup_sessions(subject=subject, task_name=task, date=(start.value, end.value), project=project)\n",
    "print(f\"{len(entries)} matching recordings\")"
   ]
  },
  {
   "cell_type": "markdown",
   "metadata": {},
   "source": [
    "## Select from a dropdown menu"
   ]
  },
  {
   "cell_type": "code",
   "execution_count": 9,
   "metadata": {
    "ExecuteTime": {
     "end_time": "2023-07-17T19:53:04.033335Z",
     "start_time": "2023-07-17T19:53:03.921534Z"
    }
   },
   "outputs": [
    {
     "data": {
      "application/vnd.jupyter.widget-view+json": {
       "model_id": "db6003664fb84cfb959b49761c6855bd",
       "version_major": 2,
       "version_minor": 0
      },
      "text/plain": [
       "Dropdown(options=(2022-06-06 13:44:42.434702: beignet on bmi control task, id=5512, 2022-06-06 13:45:31.687762…"
      ]
     },
     "metadata": {},
     "output_type": "display_data"
    }
   ],
   "source": [
    "entry_drop = widgets.Dropdown(options=entries)\n",
    "display(entry_drop)"
   ]
  },
  {
   "cell_type": "code",
   "execution_count": 10,
   "metadata": {
    "ExecuteTime": {
     "end_time": "2023-07-17T19:53:06.309237Z",
     "start_time": "2023-07-17T19:53:06.302092Z"
    }
   },
   "outputs": [
    {
     "name": "stdout",
     "output_type": "stream",
     "text": [
      "2022-06-06\n",
      "2022-06-06 13:44:42.434702\n"
     ]
    }
   ],
   "source": [
    "e = entry_drop.value\n",
    "print(e.date)\n",
    "print(e.datetime)"
   ]
  },
  {
   "cell_type": "markdown",
   "metadata": {},
   "source": [
    "## Select anything"
   ]
  },
  {
   "cell_type": "code",
   "execution_count": 11,
   "metadata": {
    "ExecuteTime": {
     "end_time": "2023-07-17T19:53:11.922516Z",
     "start_time": "2023-07-17T19:53:11.316184Z"
    }
   },
   "outputs": [
    {
     "data": {
      "application/vnd.jupyter.widget-view+json": {
       "model_id": "4d39e8d2c2bb47f89b0b9b2510788fd2",
       "version_major": 2,
       "version_minor": 0
      },
      "text/plain": [
       "interactive(children=(Dropdown(description='subject', options=('affi', 'beignet', 'test'), value='affi'), Drop…"
      ]
     },
     "metadata": {},
     "output_type": "display_data"
    }
   ],
   "source": [
    "start_date = widgets.DatePicker(value = datetime.today() - timedelta(days=30))\n",
    "end_date = widgets.DatePicker(value = datetime.today())\n",
    "\n",
    "# Filter by task and subject\n",
    "entries = db.lookup_sessions(date=(start_date.value, end_date.value))\n",
    "subjects = np.unique([e.subject for e in entries])\n",
    "tasks = np.unique([e.task_name for e in entries])\n",
    "\n",
    "subj_drop = widgets.Dropdown(options=subjects)\n",
    "task_drop = widgets.Dropdown(options=tasks) \n",
    "entry_select = widgets.SelectMultiple(\n",
    "    options=[],\n",
    "    description='entries',\n",
    "    disabled=False\n",
    ")\n",
    "entry_select.layout.width = '600px'\n",
    "\n",
    "def update_entries(*args):\n",
    "    entries = db.lookup_sessions(\n",
    "        subject=subj_drop.value, \n",
    "        task_name=task_drop.value,\n",
    "        date=(start_date.value,end_date.value)\n",
    "    )\n",
    "    entry_select.options = [\"{} - {}: {}\".format(e.id, e.task_desc, e.date) for i, e in enumerate(entries)]\n",
    "    \n",
    "start_date.observe(update_entries)\n",
    "end_date.observe(update_entries)\n",
    "subj_drop.observe(update_entries)\n",
    "task_drop.observe(update_entries)\n",
    "\n",
    "def select_entry(subject, task, start_date, end_date, entries):\n",
    "    ids = [int(re.search(r'\\d+', e).group()) for e in entries]\n",
    "    return db.lookup_sessions(id=ids)\n",
    "\n",
    "\n",
    "selection = interactive(select_entry,\n",
    "                     subject=subj_drop,\n",
    "                     task=task_drop,\n",
    "                     start_date=start_date,\n",
    "                     end_date=end_date,\n",
    "                     entries=entry_select)\n",
    "\n",
    "display(selection)"
   ]
  },
  {
   "cell_type": "code",
   "execution_count": 12,
   "metadata": {
    "ExecuteTime": {
     "end_time": "2023-07-17T19:53:15.618678Z",
     "start_time": "2023-07-17T19:53:15.610971Z"
    }
   },
   "outputs": [
    {
     "name": "stdout",
     "output_type": "stream",
     "text": [
      "3 selected\n"
     ]
    }
   ],
   "source": [
    "entries = selection.result\n",
    "print(f\"{len(entries)} selected\")"
   ]
  },
  {
   "cell_type": "markdown",
   "metadata": {},
   "source": [
    "## Loading the data"
   ]
  },
  {
   "cell_type": "code",
   "execution_count": 13,
   "metadata": {
    "ExecuteTime": {
     "end_time": "2023-07-17T19:53:21.093240Z",
     "start_time": "2023-07-17T19:53:20.942158Z"
    }
   },
   "outputs": [
    {
     "data": {
      "application/vnd.jupyter.widget-view+json": {
       "model_id": "c47aecb8c00f42b9a4b2bfd548f57430",
       "version_major": 2,
       "version_minor": 0
      },
      "text/plain": [
       "  0%|          | 0/3 [00:00<?, ?it/s]"
      ]
     },
     "metadata": {},
     "output_type": "display_data"
    },
    {
     "name": "stdout",
     "output_type": "stream",
     "text": [
      "entry 9847 has 666 clock cycles\n",
      "entry 9848 has 822 clock cycles\n",
      "entry 9853 has 738 clock cycles\n"
     ]
    }
   ],
   "source": [
    "for e in tqdm(entries):\n",
    "    \n",
    "    # Load the data\n",
    "    exp_data, exp_metadata = aopy.data.load_preproc_exp_data(preproc_dir, e.subject, e.id, e.date)\n",
    "\n",
    "    print(f\"entry {e.id} has {len(exp_data['clock'])} clock cycles\")"
   ]
  },
  {
   "cell_type": "code",
   "execution_count": null,
   "metadata": {},
   "outputs": [],
   "source": []
  }
 ],
 "metadata": {
  "colab": {
   "collapsed_sections": [],
   "name": "leo_ecube_signal_path_test_v210308.ipynb",
   "provenance": []
  },
  "kernelspec": {
   "display_name": "Python [conda env:leo-analysis]",
   "language": "python",
   "name": "conda-env-leo-analysis-py"
  },
  "language_info": {
   "codemirror_mode": {
    "name": "ipython",
    "version": 3
   },
   "file_extension": ".py",
   "mimetype": "text/x-python",
   "name": "python",
   "nbconvert_exporter": "python",
   "pygments_lexer": "ipython3",
   "version": "3.9.13"
  },
  "toc": {
   "base_numbering": 1,
   "nav_menu": {},
   "number_sections": true,
   "sideBar": true,
   "skip_h1_title": false,
   "title_cell": "Table of Contents",
   "title_sidebar": "Contents",
   "toc_cell": false,
   "toc_position": {},
   "toc_section_display": true,
   "toc_window_display": false
  },
  "varInspector": {
   "cols": {
    "lenName": 16,
    "lenType": 16,
    "lenVar": 40
   },
   "kernels_config": {
    "python": {
     "delete_cmd_postfix": "",
     "delete_cmd_prefix": "del ",
     "library": "var_list.py",
     "varRefreshCmd": "print(var_dic_list())"
    },
    "r": {
     "delete_cmd_postfix": ") ",
     "delete_cmd_prefix": "rm(",
     "library": "var_list.r",
     "varRefreshCmd": "cat(var_dic_list()) "
    }
   },
   "types_to_exclude": [
    "module",
    "function",
    "builtin_function_or_method",
    "instance",
    "_Feature"
   ],
   "window_display": false
  }
 },
 "nbformat": 4,
 "nbformat_minor": 1
}

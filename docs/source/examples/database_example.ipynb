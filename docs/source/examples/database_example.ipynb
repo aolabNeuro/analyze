{
 "cells": [
  {
   "cell_type": "markdown",
   "metadata": {
    "id": "DeudRk4Y1sJJ"
   },
   "source": [
    "# Database Example  "
   ]
  },
  {
   "cell_type": "code",
   "execution_count": 1,
   "metadata": {
    "colab": {
     "base_uri": "https://localhost:8080/",
     "height": 350
    },
    "executionInfo": {
     "elapsed": 420,
     "status": "error",
     "timestamp": 1615494076728,
     "user": {
      "displayName": "Leo Scholl",
      "photoUrl": "",
      "userId": "08377480612982390884"
     },
     "user_tz": 480
    },
    "id": "8CzeKK8Hg-bI",
    "outputId": "c5c454f6-5cf0-4f77-c822-1602cd207ed8"
   },
   "outputs": [],
   "source": [
    "# Import libraries\n",
    "import aopy\n",
    "from db import dbfunctions as db\n",
    "from ipywidgets import interactive, widgets\n",
    "from datetime import date, datetime, timedelta\n",
    "import re\n",
    "from tqdm.notebook import tqdm\n",
    "import numpy as np"
   ]
  },
  {
   "cell_type": "code",
   "execution_count": 2,
   "metadata": {},
   "outputs": [],
   "source": [
    "# set up constants\n",
    "preproc_dir = '/data/preprocessed.new'"
   ]
  },
  {
   "cell_type": "markdown",
   "metadata": {},
   "source": [
    "## Finding a single recording"
   ]
  },
  {
   "cell_type": "code",
   "execution_count": 3,
   "metadata": {},
   "outputs": [
    {
     "name": "stdout",
     "output_type": "stream",
     "text": [
      "baseline flash\n"
     ]
    }
   ],
   "source": [
    "subject = 'beignet'\n",
    "task = 'manual control'\n",
    "project = 'baseline flash'\n",
    "day = date(2022, 6, 11) # June 11, 2022\n",
    "\n",
    "entries = db.get_task_entries(subject__name=subject, task__name=task, date=day, project=project)\n",
    "e = entries[-1]\n",
    "print(e.project)"
   ]
  },
  {
   "cell_type": "code",
   "execution_count": 12,
   "metadata": {},
   "outputs": [
    {
     "name": "stdout",
     "output_type": "stream",
     "text": [
      "('beignet', 5624, datetime.date(2022, 6, 11)) ('beignet', 5625, datetime.date(2022, 6, 11))\n"
     ]
    }
   ],
   "source": [
    "# Or use a shortcut\n",
    "subjects, ids, dates = db.get_mc_sessions(subject=subject, date=day)\n",
    "print(*zip(subjects, ids, dates))"
   ]
  },
  {
   "cell_type": "markdown",
   "metadata": {},
   "source": [
    "## Finding a range of dates"
   ]
  },
  {
   "cell_type": "code",
   "execution_count": 10,
   "metadata": {},
   "outputs": [
    {
     "data": {
      "application/vnd.jupyter.widget-view+json": {
       "model_id": "1bb8bd54e1bc4a53a6b8edd45b6e79b5",
       "version_major": 2,
       "version_minor": 0
      },
      "text/plain": [
       "DatePicker(value=None, description='Start date')"
      ]
     },
     "metadata": {},
     "output_type": "display_data"
    },
    {
     "data": {
      "application/vnd.jupyter.widget-view+json": {
       "model_id": "1f901fdde2bb41c7bf66bb7bb0b00fad",
       "version_major": 2,
       "version_minor": 0
      },
      "text/plain": [
       "DatePicker(value=None, description='End date')"
      ]
     },
     "metadata": {},
     "output_type": "display_data"
    }
   ],
   "source": [
    "start = widgets.DatePicker(\n",
    "    description='Start date',\n",
    "    disabled=False\n",
    ")\n",
    "end = widgets.DatePicker(\n",
    "    description='End date',\n",
    "    disabled=False\n",
    ")\n",
    "display(start)\n",
    "display(end)"
   ]
  },
  {
   "cell_type": "code",
   "execution_count": 14,
   "metadata": {
    "scrolled": true
   },
   "outputs": [
    {
     "name": "stdout",
     "output_type": "stream",
     "text": [
      "7 matching recordings\n"
     ]
    }
   ],
   "source": [
    "# Might want to do some additional filtering by date\n",
    "subject = 'beignet'\n",
    "task = 'bmi control'\n",
    "project = 'linear map'\n",
    "entries = db.get_task_entries(subject__name=subject, task__name=task, date=(start.value, end.value), project=project)\n",
    "print(f\"{len(entries)} matching recordings\")"
   ]
  },
  {
   "cell_type": "markdown",
   "metadata": {},
   "source": [
    "## Select from a dropdown menu"
   ]
  },
  {
   "cell_type": "code",
   "execution_count": 15,
   "metadata": {},
   "outputs": [
    {
     "data": {
      "application/vnd.jupyter.widget-view+json": {
       "model_id": "595a19e679c844cabb37cbd3867b1e3b",
       "version_major": 2,
       "version_minor": 0
      },
      "text/plain": [
       "Dropdown(options=(2022-10-10 13:11:07.272631: beignet on bmi control task, id=6945, 2022-10-10 13:13:48.766118…"
      ]
     },
     "metadata": {},
     "output_type": "display_data"
    }
   ],
   "source": [
    "entry_drop = widgets.Dropdown(options=entries)\n",
    "display(entry_drop)"
   ]
  },
  {
   "cell_type": "code",
   "execution_count": 16,
   "metadata": {},
   "outputs": [
    {
     "name": "stdout",
     "output_type": "stream",
     "text": [
      "2022-10-11 09:56:37.170018\n"
     ]
    }
   ],
   "source": [
    "e = entry_drop.value\n",
    "print(e.date)"
   ]
  },
  {
   "cell_type": "markdown",
   "metadata": {},
   "source": [
    "## Select anything"
   ]
  },
  {
   "cell_type": "code",
   "execution_count": 19,
   "metadata": {},
   "outputs": [
    {
     "name": "stderr",
     "output_type": "stream",
     "text": [
      "/home/aolab/miniconda3/envs/leo-analysis/lib/python3.9/site-packages/traitlets/traitlets.py:697: FutureWarning: elementwise comparison failed; returning scalar instead, but in the future will perform elementwise comparison\n",
      "  silent = bool(old_value == new_value)\n"
     ]
    },
    {
     "data": {
      "application/vnd.jupyter.widget-view+json": {
       "model_id": "708c6107ac69405c912efc42c7de01a1",
       "version_major": 2,
       "version_minor": 0
      },
      "text/plain": [
       "interactive(children=(Dropdown(description='subject', options=('affi', 'beignet', 'test'), value='affi'), Drop…"
      ]
     },
     "metadata": {},
     "output_type": "display_data"
    }
   ],
   "source": [
    "start_date = widgets.DatePicker(value = datetime.today() - timedelta(days=30))\n",
    "end_date = widgets.DatePicker(value = datetime.today())\n",
    "\n",
    "# Filter by task and subject\n",
    "entries = db.get_task_entries(date=(start_date.value, end_date.value))\n",
    "subjects = np.unique([e.subject.name for e in entries])\n",
    "tasks = np.unique([e.task.name for e in entries])\n",
    "\n",
    "subj_drop = widgets.Dropdown(options=subjects)\n",
    "task_drop = widgets.Dropdown(options=tasks) \n",
    "entry_select = widgets.SelectMultiple(\n",
    "    options=[],\n",
    "    description='entries',\n",
    "    disabled=False\n",
    ")\n",
    "\n",
    "def update_entries(*args):\n",
    "    entries = db.get_task_entries(\n",
    "        subj=subj_drop.value, \n",
    "        task=task_drop.value,\n",
    "        date=(start_date.value,end_date.value)\n",
    "    )\n",
    "    entry_select.options = [\"{} - {}: {}\".format(e.id, e.entry_name, e.desc) for i, e in enumerate(entries)]\n",
    "    \n",
    "start_date.observe(update_entries)\n",
    "end_date.observe(update_entries)\n",
    "subj_drop.observe(update_entries)\n",
    "task_drop.observe(update_entries)\n",
    "\n",
    "def select_entry(subject, task, start_date, end_date, entries):\n",
    "    ids = [int(re.search(r'\\d+', e).group()) for e in entries]\n",
    "    return db.get_task_entries_by_id(ids)\n",
    "\n",
    "\n",
    "selection = interactive(select_entry,\n",
    "                     subject=subj_drop,\n",
    "                     task=task_drop,\n",
    "                     start_date=start_date,\n",
    "                     end_date=end_date,\n",
    "                     entries=entry_select)\n",
    "\n",
    "display(selection)"
   ]
  },
  {
   "cell_type": "code",
   "execution_count": 20,
   "metadata": {},
   "outputs": [
    {
     "name": "stdout",
     "output_type": "stream",
     "text": [
      "3 selected\n"
     ]
    }
   ],
   "source": [
    "entries = selection.result\n",
    "print(f\"{len(entries)} selected\")"
   ]
  },
  {
   "cell_type": "markdown",
   "metadata": {},
   "source": [
    "## Loading the data"
   ]
  },
  {
   "cell_type": "code",
   "execution_count": 4,
   "metadata": {},
   "outputs": [
    {
     "data": {
      "application/vnd.jupyter.widget-view+json": {
       "model_id": "23d5c8d4fc7c48969726fe356551d61e",
       "version_major": 2,
       "version_minor": 0
      },
      "text/plain": [
       "  0%|          | 0/1 [00:00<?, ?it/s]"
      ]
     },
     "metadata": {},
     "output_type": "display_data"
    },
    {
     "name": "stdout",
     "output_type": "stream",
     "text": [
      "entry 5624 has 24031 clock cycles\n"
     ]
    }
   ],
   "source": [
    "for e in tqdm(entries):\n",
    "    subject, te_id, date = db.get_entry_details(e)\n",
    "    \n",
    "    # Load the data\n",
    "    exp_data, exp_metadata = aopy.data.load_preproc_exp_data(preproc_dir, subject, te_id, date)\n",
    "\n",
    "    print(f\"entry {te_id} has {len(exp_data['clock'])} clock cycles\")"
   ]
  },
  {
   "cell_type": "code",
   "execution_count": null,
   "metadata": {},
   "outputs": [],
   "source": []
  }
 ],
 "metadata": {
  "colab": {
   "collapsed_sections": [],
   "name": "leo_ecube_signal_path_test_v210308.ipynb",
   "provenance": []
  },
  "kernelspec": {
   "display_name": "Python 3.9.12 ('leo-analysis')",
   "language": "python",
   "name": "python3"
  },
  "language_info": {
   "codemirror_mode": {
    "name": "ipython",
    "version": 3
   },
   "file_extension": ".py",
   "mimetype": "text/x-python",
   "name": "python",
   "nbconvert_exporter": "python",
   "pygments_lexer": "ipython3",
   "version": "3.9.12"
  },
  "varInspector": {
   "cols": {
    "lenName": 16,
    "lenType": 16,
    "lenVar": 40
   },
   "kernels_config": {
    "python": {
     "delete_cmd_postfix": "",
     "delete_cmd_prefix": "del ",
     "library": "var_list.py",
     "varRefreshCmd": "print(var_dic_list())"
    },
    "r": {
     "delete_cmd_postfix": ") ",
     "delete_cmd_prefix": "rm(",
     "library": "var_list.r",
     "varRefreshCmd": "cat(var_dic_list()) "
    }
   },
   "types_to_exclude": [
    "module",
    "function",
    "builtin_function_or_method",
    "instance",
    "_Feature"
   ],
   "window_display": false
  },
  "vscode": {
   "interpreter": {
    "hash": "819a86a403219d9be77eef614799119652919c9e4507acfa9d659bfe172860d7"
   }
  }
 },
 "nbformat": 4,
 "nbformat_minor": 1
}

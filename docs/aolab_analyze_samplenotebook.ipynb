{
  "nbformat": 4,
  "nbformat_minor": 0,
  "metadata": {
    "colab": {
      "name": "aolab_analyze_samplenotebook.ipynb",
      "provenance": []
    },
    "kernelspec": {
      "name": "python3",
      "display_name": "Python 3"
    },
    "language_info": {
      "name": "python"
    }
  },
  "cells": [
    {
      "cell_type": "markdown",
      "metadata": {
        "id": "0NIkEvB4oyNc"
      },
      "source": [
        "# Getting Started with aopy/analyze\n",
        "\n",
        "\n",
        "\n",
        "\n"
      ]
    },
    {
      "cell_type": "markdown",
      "metadata": {
        "id": "5-NXhqoUo9HM"
      },
      "source": [
        "## Installation\n",
        "\n",
        "In order to install the aopy repo from githul, run the commented code below"
      ]
    },
    {
      "cell_type": "code",
      "metadata": {
        "id": "2r1pWxQnivlg"
      },
      "source": [
        "#!pip install git+https://github.com/aolabNeuro/analyze.git"
      ],
      "execution_count": 10,
      "outputs": []
    },
    {
      "cell_type": "markdown",
      "metadata": {
        "id": "2ggF_QjbtNgM"
      },
      "source": [
        "## Accessing Data\n",
        "\n",
        "Mounting Google Drive with data - follow the prompt to access an authorization code \n",
        "\n",
        "\n",
        "See for more info: https://towardsdatascience.com/downloading-datasets-into-google-drive-via-google-colab-bcb1b30b0166"
      ]
    },
    {
      "cell_type": "code",
      "metadata": {
        "colab": {
          "base_uri": "https://localhost:8080/"
        },
        "id": "SPg1QvT7t2-m",
        "outputId": "c24b7ddc-276f-4d6b-f45f-f8d4b514ebf7"
      },
      "source": [
        "# from google.colab import drive\n",
        "\n",
        "# drive.mount('/content/gdrive')"
      ],
      "execution_count": 13,
      "outputs": [
        {
          "output_type": "stream",
          "name": "stdout",
          "text": [
            "Mounted at /content/gdrive\n"
          ]
        }
      ]
    },
    {
      "cell_type": "markdown",
      "metadata": {
        "id": "S9bJkJbQuQGV"
      },
      "source": [
        "Change dir to your project folder"
      ]
    },
    {
      "cell_type": "code",
      "metadata": {
        "id": "jry4TAdwt-Vp"
      },
      "source": [
        "# root_path = 'gdrive/My Drive/your_project_folder/'"
      ],
      "execution_count": null,
      "outputs": []
    },
    {
      "cell_type": "markdown",
      "metadata": {
        "id": "dee1A1XEqCs5"
      },
      "source": [
        "## Example Usage\n",
        "\n",
        "Data from experiments comes from several sources (e.g. experiment hdf files, optitrack csv, binary neural data). To manage all these different sources of data, aopy has parsing functions that standardize the format and contents of these files. "
      ]
    },
    {
      "cell_type": "markdown",
      "metadata": {
        "id": "NTlm14HHqL8t"
      },
      "source": [
        "A simple example: \n",
        "\n",
        "    /data/raw/ has\n",
        "    |-- hdf/ \n",
        "      |-- test20210310_08_te1039.hdf\n",
        "      |-- ..\n",
        "    |-- ecube/  2021-03-10_BMI3D_te1039/\n",
        "        |-- AnalogPanel_32_Channels_int16_2021-03-10_10-03-58\n",
        "        |-- DigitalPanel_64_Channels_bool_masked_uint64_2021-03-10_10-03-58\n",
        "      |-- ..."
      ]
    },
    {
      "cell_type": "code",
      "metadata": {
        "id": "XVGhg5P_o7LA"
      },
      "source": [
        "import aopy\n",
        "data_dir = '/data/raw'\n",
        "result_dir = '/data/preprocessed/beignet'\n",
        "block = 1039\n",
        "files = aopy.data.get_filenames_in_dir(data_dir, block)\n",
        "result_filename = aopy.data.get_exp_filename(block)\n",
        "aopy.preproc.proc_exp(data_dir, files, result_dir, result_filename)"
      ],
      "execution_count": 12,
      "outputs": []
    },
    {
      "cell_type": "markdown",
      "metadata": {
        "id": "nwgd9bBTvTcu"
      },
      "source": [
        "## Example Function\n",
        "\n",
        "Using the aopy repos in an example function: **detect_edges**\n",
        "\n",
        "Source: https://analyze.readthedocs.io/en/latest/preproc.html?highlight=detect%20edges#aopy.preproc.detect_edges\n",
        "\n",
        "\n",
        "Definition:\n",
        "Finds the timestamp and corresponding value of all the bit flips in data. Assumes the first element in data isn’t a transition.\n",
        "\n",
        "By default, also enforces that rising and falling edges must alternate, always taking the last edge as the most valid one. For example: "
      ]
    },
    {
      "cell_type": "code",
      "metadata": {
        "colab": {
          "base_uri": "https://localhost:8080/"
        },
        "id": "Y6lEkBbFvRpL",
        "outputId": "1e3eb233-c983-4ff6-b579-68982c0f27a1"
      },
      "source": [
        "from aopy import preproc\n",
        "\n",
        "data = [0, 0, 3, 0, 3, 2, 2, 0, 1, 7, 3, 2, 2, 0]\n",
        "fs = 60\n",
        "ts, values = aopy.preproc.detect_edges(data, fs)\n",
        "print(values)\n",
        "# Expect: [3, 0, 3, 0, 7, 0]"
      ],
      "execution_count": 22,
      "outputs": [
        {
          "output_type": "stream",
          "name": "stdout",
          "text": [
            "[3 0 3 0 7 0]\n"
          ]
        }
      ]
    },
    {
      "cell_type": "code",
      "metadata": {
        "id": "MtI2sHgKpilm"
      },
      "source": [
        ""
      ],
      "execution_count": 12,
      "outputs": []
    }
  ]
}
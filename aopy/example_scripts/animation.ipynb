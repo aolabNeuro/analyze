{
  "cells": [
    {
      "cell_type": "code",
      "execution_count": 5,
      "metadata": {
        "colab": {
          "base_uri": "https://localhost:8080/",
          "height": 537
        },
        "id": "5CV_JAyaqKza",
        "outputId": "4a1d0c2e-0117-44fd-8d44-b3eab54bca9f"
      },
      "outputs": [
        {
          "name": "stdout",
          "output_type": "stream",
          "text": [
            "/content\n"
          ]
        },
        {
          "ename": "OSError",
          "evalue": "ignored",
          "output_type": "error",
          "traceback": [
            "\u001b[0;31m---------------------------------------------------------------------------\u001b[0m",
            "\u001b[0;31mOSError\u001b[0m                                   Traceback (most recent call last)",
            "\u001b[0;32m<ipython-input-5-d3e50b6fbab4>\u001b[0m in \u001b[0;36m<module>\u001b[0;34m()\u001b[0m\n\u001b[1;32m      4\u001b[0m \u001b[0;32mimport\u001b[0m \u001b[0mh5py\u001b[0m \u001b[0;32mas\u001b[0m \u001b[0mh5\u001b[0m\u001b[0;34m\u001b[0m\u001b[0;34m\u001b[0m\u001b[0m\n\u001b[1;32m      5\u001b[0m \u001b[0mprint\u001b[0m\u001b[0;34m(\u001b[0m\u001b[0mos\u001b[0m\u001b[0;34m.\u001b[0m\u001b[0mgetcwd\u001b[0m\u001b[0;34m(\u001b[0m\u001b[0;34m)\u001b[0m\u001b[0;34m)\u001b[0m\u001b[0;34m\u001b[0m\u001b[0;34m\u001b[0m\u001b[0m\n\u001b[0;32m----> 6\u001b[0;31m \u001b[0mf\u001b[0m \u001b[0;34m=\u001b[0m \u001b[0mh5\u001b[0m\u001b[0;34m.\u001b[0m\u001b[0mFile\u001b[0m\u001b[0;34m(\u001b[0m\u001b[0;34m'test_mo_7.h5'\u001b[0m\u001b[0;34m,\u001b[0m\u001b[0;34m'r+'\u001b[0m\u001b[0;34m)\u001b[0m\u001b[0;34m\u001b[0m\u001b[0;34m\u001b[0m\u001b[0m\n\u001b[0m\u001b[1;32m      7\u001b[0m \u001b[0;34m\u001b[0m\u001b[0m\n\u001b[1;32m      8\u001b[0m \u001b[0mf\u001b[0m\u001b[0;34m.\u001b[0m\u001b[0mkeys\u001b[0m\u001b[0;34m(\u001b[0m\u001b[0;34m)\u001b[0m\u001b[0;34m\u001b[0m\u001b[0;34m\u001b[0m\u001b[0m\n",
            "\u001b[0;32m/usr/local/lib/python3.7/dist-packages/h5py/_hl/files.py\u001b[0m in \u001b[0;36m__init__\u001b[0;34m(self, name, mode, driver, libver, userblock_size, swmr, rdcc_nslots, rdcc_nbytes, rdcc_w0, track_order, fs_strategy, fs_persist, fs_threshold, **kwds)\u001b[0m\n\u001b[1;32m    425\u001b[0m                                fapl, fcpl=make_fcpl(track_order=track_order, fs_strategy=fs_strategy,\n\u001b[1;32m    426\u001b[0m                                fs_persist=fs_persist, fs_threshold=fs_threshold),\n\u001b[0;32m--> 427\u001b[0;31m                                swmr=swmr)\n\u001b[0m\u001b[1;32m    428\u001b[0m \u001b[0;34m\u001b[0m\u001b[0m\n\u001b[1;32m    429\u001b[0m             \u001b[0;32mif\u001b[0m \u001b[0misinstance\u001b[0m\u001b[0;34m(\u001b[0m\u001b[0mlibver\u001b[0m\u001b[0;34m,\u001b[0m \u001b[0mtuple\u001b[0m\u001b[0;34m)\u001b[0m\u001b[0;34m:\u001b[0m\u001b[0;34m\u001b[0m\u001b[0;34m\u001b[0m\u001b[0m\n",
            "\u001b[0;32m/usr/local/lib/python3.7/dist-packages/h5py/_hl/files.py\u001b[0m in \u001b[0;36mmake_fid\u001b[0;34m(name, mode, userblock_size, fapl, fcpl, swmr)\u001b[0m\n\u001b[1;32m    190\u001b[0m         \u001b[0mfid\u001b[0m \u001b[0;34m=\u001b[0m \u001b[0mh5f\u001b[0m\u001b[0;34m.\u001b[0m\u001b[0mopen\u001b[0m\u001b[0;34m(\u001b[0m\u001b[0mname\u001b[0m\u001b[0;34m,\u001b[0m \u001b[0mflags\u001b[0m\u001b[0;34m,\u001b[0m \u001b[0mfapl\u001b[0m\u001b[0;34m=\u001b[0m\u001b[0mfapl\u001b[0m\u001b[0;34m)\u001b[0m\u001b[0;34m\u001b[0m\u001b[0;34m\u001b[0m\u001b[0m\n\u001b[1;32m    191\u001b[0m     \u001b[0;32melif\u001b[0m \u001b[0mmode\u001b[0m \u001b[0;34m==\u001b[0m \u001b[0;34m'r+'\u001b[0m\u001b[0;34m:\u001b[0m\u001b[0;34m\u001b[0m\u001b[0;34m\u001b[0m\u001b[0m\n\u001b[0;32m--> 192\u001b[0;31m         \u001b[0mfid\u001b[0m \u001b[0;34m=\u001b[0m \u001b[0mh5f\u001b[0m\u001b[0;34m.\u001b[0m\u001b[0mopen\u001b[0m\u001b[0;34m(\u001b[0m\u001b[0mname\u001b[0m\u001b[0;34m,\u001b[0m \u001b[0mh5f\u001b[0m\u001b[0;34m.\u001b[0m\u001b[0mACC_RDWR\u001b[0m\u001b[0;34m,\u001b[0m \u001b[0mfapl\u001b[0m\u001b[0;34m=\u001b[0m\u001b[0mfapl\u001b[0m\u001b[0;34m)\u001b[0m\u001b[0;34m\u001b[0m\u001b[0;34m\u001b[0m\u001b[0m\n\u001b[0m\u001b[1;32m    193\u001b[0m     \u001b[0;32melif\u001b[0m \u001b[0mmode\u001b[0m \u001b[0;32min\u001b[0m \u001b[0;34m[\u001b[0m\u001b[0;34m'w-'\u001b[0m\u001b[0;34m,\u001b[0m \u001b[0;34m'x'\u001b[0m\u001b[0;34m]\u001b[0m\u001b[0;34m:\u001b[0m\u001b[0;34m\u001b[0m\u001b[0;34m\u001b[0m\u001b[0m\n\u001b[1;32m    194\u001b[0m         \u001b[0mfid\u001b[0m \u001b[0;34m=\u001b[0m \u001b[0mh5f\u001b[0m\u001b[0;34m.\u001b[0m\u001b[0mcreate\u001b[0m\u001b[0;34m(\u001b[0m\u001b[0mname\u001b[0m\u001b[0;34m,\u001b[0m \u001b[0mh5f\u001b[0m\u001b[0;34m.\u001b[0m\u001b[0mACC_EXCL\u001b[0m\u001b[0;34m,\u001b[0m \u001b[0mfapl\u001b[0m\u001b[0;34m=\u001b[0m\u001b[0mfapl\u001b[0m\u001b[0;34m,\u001b[0m \u001b[0mfcpl\u001b[0m\u001b[0;34m=\u001b[0m\u001b[0mfcpl\u001b[0m\u001b[0;34m)\u001b[0m\u001b[0;34m\u001b[0m\u001b[0;34m\u001b[0m\u001b[0m\n",
            "\u001b[0;32mh5py/_objects.pyx\u001b[0m in \u001b[0;36mh5py._objects.with_phil.wrapper\u001b[0;34m()\u001b[0m\n",
            "\u001b[0;32mh5py/_objects.pyx\u001b[0m in \u001b[0;36mh5py._objects.with_phil.wrapper\u001b[0;34m()\u001b[0m\n",
            "\u001b[0;32mh5py/h5f.pyx\u001b[0m in \u001b[0;36mh5py.h5f.open\u001b[0;34m()\u001b[0m\n",
            "\u001b[0;31mOSError\u001b[0m: Unable to open file (unable to open file: name = 'test_mo_7.h5', errno = 2, error message = 'No such file or directory', flags = 1, o_flags = 2)"
          ]
        }
      ],
      "source": [
        "import numpy as np\n",
        "\n",
        "import h5py as h5\n",
        "print(os.getcwd())\n",
        "f = h5.File('test_mo_7.h5','r+')\n",
        "\n",
        "f.keys()"
      ]
    },
    {
      "cell_type": "code",
      "execution_count": null,
      "metadata": {
        "id": "gVCd-iAIqKzd"
      },
      "outputs": [],
      "source": [
        "ref = np.asarray(f['synced_reference_buffer'])\n",
        "pos = np.asarray(f['decoded_position'])\n",
        "vel = np.asarray(f['decoded_velocity'])\n",
        "emg = np.asarray(f['filtered_emg'])\n",
        "dec = np.asarray(f['W'])\n",
        "dec = dec.reshape(pos.shape[0]*emg.shape[0],dec.shape[-1])\n",
        "\n",
        "# sampling rate ???\n",
        "Hz = 60\n",
        "dt = 1/Hz\n",
        "time = np.arange(ref.shape[1])*dt"
      ]
    },
    {
      "cell_type": "code",
      "execution_count": null,
      "metadata": {
        "id": "HZUt4Dq5qKze"
      },
      "outputs": [],
      "source": [
        "%matplotlib inline"
      ]
    },
    {
      "cell_type": "code",
      "execution_count": null,
      "metadata": {
        "id": "lzhj75SAqKze"
      },
      "outputs": [],
      "source": [
        "# produce matlab-style plots\n",
        "import matplotlib as mpl\n",
        "# increase font size on plots\n",
        "mpl.rc('font',**{'size':18})\n",
        "# use LaTeX to render symbols\n",
        "mpl.rc('text',usetex=False)\n",
        "# render animation\n",
        "mpl.rc('animation',html='html5')\n",
        "# animation\n",
        "from matplotlib import animation as ani\n",
        "# Matlab-style plotting\n",
        "import matplotlib.pyplot as plt"
      ]
    },
    {
      "cell_type": "code",
      "execution_count": null,
      "metadata": {
        "id": "qc-evrmxqKze",
        "outputId": "40377517-4c0f-4433-a5a5-9ce87fe8f040"
      },
      "outputs": [
        {
          "data": {
            "image/png": "[encoded data removed]",
            "text/plain": [
              "<Figure size 864x432 with 3 Axes>"
            ]
          },
          "metadata": {
            "needs_background": "light"
          },
          "output_type": "display_data"
        }
      ],
      "source": [
        "fig = plt.figure(figsize=(12,6)); \n",
        "\n",
        "axt = plt.subplot2grid((2, 2), (0, 0), rowspan=2)\n",
        "axe = plt.subplot2grid((2, 2), (0, 1))\n",
        "axd = plt.subplot2grid((2, 2), (1, 1))\n",
        "\n",
        "nl = 10\n",
        "lim = 45\n",
        "dj = int(2*Hz/nl)\n",
        "\n",
        "refl = [axt.plot([], [], '-', color='red', lw=2, solid_capstyle='butt')[0] for l in range(nl)]\n",
        "posl = [axt.plot([], [], '-', color='blue', lw=2, solid_capstyle='butt')[0] for l in range(nl)]\n",
        "refd, = axt.plot([], [], '.', color='red', ms=30);\n",
        "posd, = axt.plot([], [], '.', color='blue', ms=20);\n",
        "\n",
        "emgl = [axe.plot([], [])[0] for l in emg]\n",
        "decl = [axd.plot([], [], '.-')[0] for l in dec]\n",
        "\n",
        "#plt.close(fig)\n",
        "\n",
        "# initialization -- called once\n",
        "def init():\n",
        "    for l in refl:\n",
        "        l.set_data([], [])\n",
        "    for l in posl:\n",
        "        l.set_data([], [])\n",
        "    refd.set_data([], [])\n",
        "    posd.set_data([], [])\n",
        "    axt.set_xlim(( -lim, +lim))\n",
        "    axt.set_ylim(( -lim, +lim))\n",
        "    axt.set_xticks([])\n",
        "    axt.set_yticks([])\n",
        "    #\n",
        "    for l in emgl:\n",
        "        l.set_data([], [])\n",
        "    axe.set_xticklabels([])\n",
        "    axe.set_yticklabels([])\n",
        "    axe.set_xlim(time[0],time[-1])\n",
        "    axe.set_ylim(-1e-5,6e-4)\n",
        "    axe.set_ylabel('EMG')\n",
        "    #\n",
        "    for l in decl:\n",
        "        l.set_data([], [])\n",
        "    axd.set_yticklabels([])\n",
        "    axd.set_xlim(time[0],time[-1])\n",
        "    axd.set_ylim(-1e6,+5e5)\n",
        "    axd.set_xlabel('time (sec)')\n",
        "    axd.set_ylabel('decoder')\n",
        "    #\n",
        "    plt.tight_layout()\n",
        "    return refl+posl+[refd,posd]+emgl+decl\n",
        "\n",
        "# animation -- called iteratively\n",
        "def animate(t):\n",
        "    j = (t >= time).nonzero()[0]\n",
        "    d = int(t//10)+1\n",
        "    for li,l in enumerate(refl):\n",
        "        l.set_data(ref[0,j[-(li+1)*dj-2:-(li)*dj-1]],\n",
        "                   ref[1,j[-(li+1)*dj-2:-(li)*dj-1]])\n",
        "        l.set_alpha(1-li/nl)\n",
        "    for li,l in enumerate(posl):\n",
        "        l.set_data(pos[0,j[-(li+1)*dj-2:-(li)*dj-1]],\n",
        "                   pos[1,j[-(li+1)*dj-2:-(li)*dj-1]])\n",
        "        l.set_alpha(1-li/nl)\n",
        "    refd.set_data(ref[0,j[-1]],ref[1,j[-1]])\n",
        "    posd.set_data(pos[0,j[-1]],pos[1,j[-1]])\n",
        "    for li,l in enumerate(emgl):\n",
        "        l.set_data(time[j],emg[li,j])\n",
        "    for li,l in enumerate(decl):\n",
        "        l.set_data(10*np.arange(d),dec[li,np.arange(d)])\n",
        "    return refl+posl+[refd,posd]+emgl+decl\n",
        "\n",
        "\n",
        "a = ani.FuncAnimation(fig, animate, init_func=init, repeat=True,\n",
        "                      frames=np.arange(0.,time[-1],dt), interval=1000*dt, blit=True)"
      ]
    },
    {
      "cell_type": "code",
      "execution_count": null,
      "metadata": {
        "id": "-sJoMHZFqKzf"
      },
      "outputs": [],
      "source": [
        "init(); animate(50);"
      ]
    },
    {
      "cell_type": "code",
      "execution_count": null,
      "metadata": {
        "id": "KJqjFrmRqKzg",
        "outputId": "c6877600-6f32-4ace-8f6c-3261dcba648f"
      },
      "outputs": [
        {
          "data": {
            "text/plain": [
              "<Figure size 432x288 with 0 Axes>"
            ]
          },
          "metadata": {},
          "output_type": "display_data"
        }
      ],
      "source": [
        "a.save('viz.mp4')"
      ]
    },
    {
      "cell_type": "code",
      "execution_count": null,
      "metadata": {
        "id": "ZwkaMnW-qKzg"
      },
      "outputs": [],
      "source": [
        "ani.FuncAnimation?"
      ]
    }
  ],
  "metadata": {
    "colab": {
      "name": "20211026-demo.ipynb",
      "provenance": []
    },
    "kernelspec": {
      "display_name": "Python 3",
      "language": "python",
      "name": "python3"
    },
    "language_info": {
      "codemirror_mode": {
        "name": "ipython",
        "version": 3
      },
      "file_extension": ".py",
      "mimetype": "text/x-python",
      "name": "python",
      "nbconvert_exporter": "python",
      "pygments_lexer": "ipython3",
      "version": "3.8.11"
    }
  },
  "nbformat": 4,
  "nbformat_minor": 0
}

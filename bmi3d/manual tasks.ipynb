{
 "cells": [
  {
   "cell_type": "markdown",
   "metadata": {},
   "source": [
    "# Load manual task entry from BMI3D database\n",
    "Requrires BMI3D v0.2.0\\\n",
    "Uses interact"
   ]
  },
  {
   "cell_type": "code",
   "execution_count": 1,
   "metadata": {},
   "outputs": [
    {
     "name": "stdout",
     "output_type": "stream",
     "text": [
      "\n"
     ]
    }
   ],
   "source": [
    "from db import dbfunctions as dbfn\n",
    "from analysis.target_capture_task_analysis import ManualControlMultiTaskEntry\n",
    "from datetime import datetime\n",
    "from ipywidgets import interact\n",
    "import numpy as np"
   ]
  },
  {
   "cell_type": "code",
   "execution_count": 2,
   "metadata": {},
   "outputs": [],
   "source": [
    "start = datetime.min\n",
    "end = datetime.today()\n",
    "entries = dbfn.query_daterange(start, end)"
   ]
  },
  {
   "cell_type": "code",
   "execution_count": 3,
   "metadata": {},
   "outputs": [
    {
     "data": {
      "application/vnd.jupyter.widget-view+json": {
       "model_id": "4ca254a264734bd4a3b36eee17b3eed9",
       "version_major": 2,
       "version_minor": 0
      },
      "text/plain": [
       "interactive(children=(Dropdown(description='task', options=('manual control', 'training_test'), value='manual …"
      ]
     },
     "metadata": {},
     "output_type": "display_data"
    },
    {
     "data": {
      "text/plain": [
       "<function __main__.select_filters(task, subject)>"
      ]
     },
     "execution_count": 3,
     "metadata": {},
     "output_type": "execute_result"
    }
   ],
   "source": [
    "subjects = np.unique([e.subject.name for e in entries])\n",
    "tasks = np.unique([e.task.name for e in entries])\n",
    "def select_filters(task, subject):\n",
    "    global entries\n",
    "    entries = dbfn.get_task_entries_by_date(subj=subject, task__name=task)\n",
    "interact(select_filters, task=tasks, subject=subjects)"
   ]
  },
  {
   "cell_type": "code",
   "execution_count": 4,
   "metadata": {},
   "outputs": [
    {
     "data": {
      "application/vnd.jupyter.widget-view+json": {
       "model_id": "386fb022f12a4c73b4f95346a32b8904",
       "version_major": 2,
       "version_minor": 0
      },
      "text/plain": [
       "interactive(children=(Dropdown(description='entry', options=(2020-12-11 17:22:25.083119: leo on manual control…"
      ]
     },
     "metadata": {},
     "output_type": "display_data"
    },
    {
     "data": {
      "text/plain": [
       "<function __main__.select_entry(entry)>"
      ]
     },
     "execution_count": 4,
     "metadata": {},
     "output_type": "execute_result"
    }
   ],
   "source": [
    "def select_entry(entry):\n",
    "    global e\n",
    "    e = ManualControlMultiTaskEntry(entry) \n",
    "interact(select_entry, entry=entries)"
   ]
  },
  {
   "cell_type": "code",
   "execution_count": 5,
   "metadata": {},
   "outputs": [
    {
     "name": "stdout",
     "output_type": "stream",
     "text": [
      "483\n",
      "Runtime 00:00:41\n",
      "Total trials 4\n",
      "Total rewards 2\n",
      "Rewards/min 2.9\n",
      "Success rate 50 %\n"
     ]
    },
    {
     "name": "stderr",
     "output_type": "stream",
     "text": [
      "/mnt/c/GitHub/brain-python-interface/riglib/blackrock/cerelink.py:13: UserWarning: Unable to import cerebus library. Check if is installed if using the Blackrock NeuroPort system\n",
      "  warnings.warn(\"Unable to import cerebus library. Check if is installed if using the Blackrock NeuroPort system\")\n"
     ]
    }
   ],
   "source": [
    "print(e.id)\n",
    "e.summary_stats()"
   ]
  },
  {
   "cell_type": "code",
   "execution_count": 6,
   "metadata": {},
   "outputs": [
    {
     "data": {
      "text/plain": [
       "[array([(b'wait',   0, -1., [0.000000e+00, 0.000000e+00, 0.000000e+00]),\n",
       "        (b'target',   1,  0., [0.000000e+00, 0.000000e+00, 0.000000e+00]),\n",
       "        (b'hold',   2,  0., [0.000000e+00, 0.000000e+00, 0.000000e+00]),\n",
       "        (b'targ_transition',  13,  0., [0.000000e+00, 0.000000e+00, 0.000000e+00]),\n",
       "        (b'target',  14,  1., [0.000000e+00, 0.000000e+00, 0.000000e+00]),\n",
       "        (b'hold', 311,  1., [1.000000e+01, 1.000000e+01, 1.000000e+01]),\n",
       "        (b'targ_transition', 324,  1., [6.123234e-16, 6.123234e-16, 6.123234e-16]),\n",
       "        (b'reward', 325,  1., [0.000000e+00, 0.000000e+00, 0.000000e+00])],\n",
       "       dtype=[('msg', 'S256'), ('time', '<u4'), ('target_index', '<f8'), ('target', '<f8', (3,))]),\n",
       " array([(b'wait', 356, -1., [1.000000e+01, 1.000000e+01, 1.000000e+01]),\n",
       "        (b'target', 357,  0., [6.123234e-16, 6.123234e-16, 6.123234e-16]),\n",
       "        (b'hold', 402,  0., [6.123234e-16, 6.123234e-16, 6.123234e-16]),\n",
       "        (b'targ_transition', 414,  0., [6.123234e-16, 6.123234e-16, 6.123234e-16]),\n",
       "        (b'target', 415,  1., [0.000000e+00, 0.000000e+00, 0.000000e+00]),\n",
       "        (b'hold', 848,  1., [1.000000e+01, 1.000000e+01, 1.000000e+01]),\n",
       "        (b'targ_transition', 861,  1., [6.123234e-16, 6.123234e-16, 6.123234e-16]),\n",
       "        (b'reward', 862,  1., [0.000000e+00, 0.000000e+00, 0.000000e+00])],\n",
       "       dtype=[('msg', 'S256'), ('time', '<u4'), ('target_index', '<f8'), ('target', '<f8', (3,))]),\n",
       " array([(b'wait',  893, -1., [ 1.00000000e+01,  1.00000000e+01,  1.00000000e+01]),\n",
       "        (b'target',  894,  0., [ 6.12323400e-16,  6.12323400e-16,  6.12323400e-16]),\n",
       "        (b'hold', 1246,  0., [ 0.00000000e+00,  0.00000000e+00,  0.00000000e+00]),\n",
       "        (b'targ_transition', 1258,  0., [ 0.00000000e+00,  0.00000000e+00,  0.00000000e+00]),\n",
       "        (b'target', 1259,  1., [-7.07106781e+00, -7.07106781e+00, -7.07106781e+00]),\n",
       "        (b'timeout_penalty', 1862, -1., [-7.07106781e+00, -7.07106781e+00, -7.07106781e+00])],\n",
       "       dtype=[('msg', 'S256'), ('time', '<u4'), ('target_index', '<f8'), ('target', '<f8', (3,))]),\n",
       " array([(b'targ_transition', 1923, -1., [7.07106781, 7.07106781, 7.07106781]),\n",
       "        (b'target', 1924,  0., [0.        , 0.        , 0.        ]),\n",
       "        (b'hold', 2136,  0., [7.07106781, 7.07106781, 7.07106781]),\n",
       "        (b'hold_penalty', 2149, -1., [0.        , 0.        , 0.        ])],\n",
       "       dtype=[('msg', 'S256'), ('time', '<u4'), ('target_index', '<f8'), ('target', '<f8', (3,))]),\n",
       " array([(b'targ_transition', 2208, -1., [7.07106781, 7.07106781, 7.07106781]),\n",
       "        (b'target', 2209,  0., [0.        , 0.        , 0.        ])],\n",
       "       dtype=[('msg', 'S256'), ('time', '<u4'), ('target_index', '<f8'), ('target', '<f8', (3,))])]"
      ]
     },
     "execution_count": 6,
     "metadata": {},
     "output_type": "execute_result"
    }
   ],
   "source": [
    "e.trial_msgs"
   ]
  },
  {
   "cell_type": "code",
   "execution_count": 7,
   "metadata": {},
   "outputs": [
    {
     "data": {
      "text/plain": [
       "array([([ 0.    ,  0.    ,  0.    ],  True),\n",
       "       ([ 0.    ,  0.    ,  0.    ], False),\n",
       "       ([ 0.    ,  0.    ,  0.    ],  True), ...,\n",
       "       ([14.    ,  0.    , -9.6397],  True),\n",
       "       ([14.    ,  0.    , -9.6397], False),\n",
       "       ([14.    ,  0.    , -9.6104],  True)],\n",
       "      dtype=[('cursor', '<f8', (3,)), ('sync', '?')])"
      ]
     },
     "execution_count": 7,
     "metadata": {},
     "output_type": "execute_result"
    }
   ],
   "source": [
    "e.frame_data"
   ]
  }
 ],
 "metadata": {
  "kernelspec": {
   "display_name": "bmi3d",
   "language": "python",
   "name": "bmi3d"
  },
  "language_info": {
   "codemirror_mode": {
    "name": "ipython",
    "version": 3
   },
   "file_extension": ".py",
   "mimetype": "text/x-python",
   "name": "python",
   "nbconvert_exporter": "python",
   "pygments_lexer": "ipython3",
   "version": "3.6.9"
  }
 },
 "nbformat": 4,
 "nbformat_minor": 4
}

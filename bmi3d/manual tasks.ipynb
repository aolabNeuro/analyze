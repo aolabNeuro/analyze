{
 "cells": [
  {
   "cell_type": "markdown",
   "metadata": {},
   "source": [
    "# Load manual task entry from BMI3D database\n",
    "Requrires BMI3D v0.2.0\\\n",
    "Uses interact"
   ]
  },
  {
   "cell_type": "code",
   "execution_count": 1,
   "metadata": {},
   "outputs": [
    {
     "name": "stdout",
     "output_type": "stream",
     "text": [
      "\n"
     ]
    }
   ],
   "source": [
    "from db import dbfunctions as dbfn\n",
    "from analysis.target_capture_task_analysis import ManualControlMultiTaskEntry\n",
    "from datetime import datetime\n",
    "from ipywidgets import interact\n",
    "import numpy as np"
   ]
  },
  {
   "cell_type": "code",
   "execution_count": 2,
   "metadata": {},
   "outputs": [],
   "source": [
    "start = datetime.min\n",
    "end = datetime.today()\n",
    "entries = dbfn.query_daterange(start, end)"
   ]
  },
  {
   "cell_type": "code",
   "execution_count": 3,
   "metadata": {},
   "outputs": [
    {
     "data": {
      "application/vnd.jupyter.widget-view+json": {
       "model_id": "9727d9c84e284ef2a1062a0e68a49ada",
       "version_major": 2,
       "version_minor": 0
      },
      "text/plain": [
       "interactive(children=(Dropdown(description='task', options=('manual control',), value='manual control'), Dropd…"
      ]
     },
     "metadata": {},
     "output_type": "display_data"
    },
    {
     "data": {
      "text/plain": [
       "<function __main__.select_filters(task, subject)>"
      ]
     },
     "execution_count": 3,
     "metadata": {},
     "output_type": "execute_result"
    }
   ],
   "source": [
    "subjects = np.unique([e.subject.name for e in entries])\n",
    "tasks = np.unique([e.task.name for e in entries])\n",
    "def select_filters(task, subject):\n",
    "    global entries\n",
    "    entries = dbfn.get_task_entries_by_date(subj=subject, task__name=task)\n",
    "interact(select_filters, task=tasks, subject=subjects)"
   ]
  },
  {
   "cell_type": "code",
   "execution_count": 4,
   "metadata": {},
   "outputs": [
    {
     "data": {
      "application/vnd.jupyter.widget-view+json": {
       "model_id": "69698d56c4414e2fb939079dd97dac8f",
       "version_major": 2,
       "version_minor": 0
      },
      "text/plain": [
       "interactive(children=(Dropdown(description='entry', options=(2020-12-22 17:12:28.990567: leo on manual control…"
      ]
     },
     "metadata": {},
     "output_type": "display_data"
    },
    {
     "data": {
      "text/plain": [
       "<function __main__.select_entry(entry)>"
      ]
     },
     "execution_count": 4,
     "metadata": {},
     "output_type": "execute_result"
    }
   ],
   "source": [
    "def select_entry(entry):\n",
    "    global e\n",
    "    e = ManualControlMultiTaskEntry(entry) \n",
    "interact(select_entry, entry=entries)"
   ]
  },
  {
   "cell_type": "code",
   "execution_count": 8,
   "metadata": {},
   "outputs": [
    {
     "name": "stdout",
     "output_type": "stream",
     "text": [
      "ID 41\n",
      "Runtime 00:00:14\n",
      "Total trials 1\n",
      "Total rewards 1\n",
      "Rewards/min 4.22\n",
      "Success rate 100 %\n"
     ]
    }
   ],
   "source": [
    "print(\"ID \" + str(e.id))\n",
    "e.summary_stats()"
   ]
  },
  {
   "cell_type": "code",
   "execution_count": 9,
   "metadata": {},
   "outputs": [
    {
     "data": {
      "text/plain": [
       "[array([(b'wait',   0, -1., [ 0.        ,  0.        ,  0.        ]),\n",
       "        (b'target',   1,  0., [ 0.        ,  0.        ,  0.        ]),\n",
       "        (b'hold',  84,  0., [-8.84149227, -8.84149227, -8.84149227]),\n",
       "        (b'targ_transition',  90,  0., [-8.84149227, -8.84149227, -8.84149227]),\n",
       "        (b'target',  91,  1., [ 0.        ,  0.        ,  0.        ]),\n",
       "        (b'hold', 104,  1., [ 3.49975338,  3.49975338,  3.49975338]),\n",
       "        (b'targ_transition', 110,  1., [ 3.49975338,  3.49975338,  3.49975338]),\n",
       "        (b'target', 111,  2., [-8.84149227, -8.84149227, -8.84149227]),\n",
       "        (b'hold', 136,  2., [ 0.        ,  0.        ,  0.        ]),\n",
       "        (b'targ_transition', 142,  2., [ 0.        ,  0.        ,  0.        ]),\n",
       "        (b'target', 143,  3., [ 3.49975338,  3.49975338,  3.49975338]),\n",
       "        (b'hold', 166,  3., [ 0.        ,  0.        ,  0.        ]),\n",
       "        (b'targ_transition', 171,  3., [-8.84149227, -8.84149227, -8.84149227]),\n",
       "        (b'target', 172,  4., [ 0.        ,  0.        ,  0.        ]),\n",
       "        (b'hold', 192,  4., [-8.84149227, -8.84149227, -8.84149227]),\n",
       "        (b'targ_transition', 198,  4., [-8.84149227, -8.84149227, -8.84149227]),\n",
       "        (b'reward', 199,  4., [ 0.        ,  0.        ,  0.        ])],\n",
       "       dtype=[('msg', 'S256'), ('time', '<u4'), ('target_index', '<f8'), ('target', '<f8', (3,))]),\n",
       " array([(b'wait', 213, -1., [-8.84149227, -8.84149227, -8.84149227]),\n",
       "        (b'target', 214,  0., [ 0.        ,  0.        ,  0.        ])],\n",
       "       dtype=[('msg', 'S256'), ('time', '<u4'), ('target_index', '<f8'), ('target', '<f8', (3,))])]"
      ]
     },
     "execution_count": 9,
     "metadata": {},
     "output_type": "execute_result"
    }
   ],
   "source": [
    "e.trial_msgs"
   ]
  },
  {
   "cell_type": "code",
   "execution_count": 22,
   "metadata": {},
   "outputs": [
    {
     "data": {
      "text/plain": [
       "array([[-0.1172,  7.4715,  0.    ],\n",
       "       [-0.0586,  7.2957,  0.    ],\n",
       "       [-0.0586,  7.2371,  0.    ],\n",
       "       ...,\n",
       "       [10.6359, -0.1758,  0.    ],\n",
       "       [10.6359, -0.1758,  0.    ],\n",
       "       [10.6359, -0.1758,  0.    ]])"
      ]
     },
     "execution_count": 22,
     "metadata": {},
     "output_type": "execute_result"
    }
   ],
   "source": [
    "e.frame_data['manual_input']"
   ]
  },
  {
   "cell_type": "code",
   "execution_count": 24,
   "metadata": {},
   "outputs": [
    {
     "data": {
      "text/plain": [
       "[<matplotlib.lines.Line2D at 0x7fd00d237a58>]"
      ]
     },
     "execution_count": 24,
     "metadata": {},
     "output_type": "execute_result"
    },
    {
     "data": {
      "image/png": "[encoded data removed]",
      "text/plain": [
       "<Figure size 432x288 with 1 Axes>"
      ]
     },
     "metadata": {
      "needs_background": "light"
     },
     "output_type": "display_data"
    }
   ],
   "source": [
    "import matplotlib.pyplot as plt\n",
    "time = 1/60 * np.arange(len(e.frame_data))\n",
    "plt.plot(e.frame_data['manual_input'][:,0], e.frame_data['manual_input'][:,1])\n",
    "plt.plot(e.frame_data['cursor'][:,0], e.frame_data['cursor'][:,2])"
   ]
  },
  {
   "cell_type": "code",
   "execution_count": null,
   "metadata": {},
   "outputs": [],
   "source": []
  }
 ],
 "metadata": {
  "kernelspec": {
   "display_name": "bmi3d",
   "language": "python",
   "name": "bmi3d"
  },
  "language_info": {
   "codemirror_mode": {
    "name": "ipython",
    "version": 3
   },
   "file_extension": ".py",
   "mimetype": "text/x-python",
   "name": "python",
   "nbconvert_exporter": "python",
   "pygments_lexer": "ipython3",
   "version": "3.6.9"
  }
 },
 "nbformat": 4,
 "nbformat_minor": 4
}
